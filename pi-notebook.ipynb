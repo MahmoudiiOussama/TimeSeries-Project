{
 "cells": [
  {
   "cell_type": "code",
   "execution_count": 1,
   "id": "9314e457",
   "metadata": {
    "_cell_guid": "b1076dfc-b9ad-4769-8c92-a6c4dae69d19",
    "_uuid": "8f2839f25d086af736a60e9eeb907d3b93b6e0e5",
    "execution": {
     "iopub.execute_input": "2023-05-22T17:55:59.896371Z",
     "iopub.status.busy": "2023-05-22T17:55:59.895915Z",
     "iopub.status.idle": "2023-05-22T17:55:59.921992Z",
     "shell.execute_reply": "2023-05-22T17:55:59.920715Z"
    },
    "papermill": {
     "duration": 0.055854,
     "end_time": "2023-05-22T17:55:59.924942",
     "exception": false,
     "start_time": "2023-05-22T17:55:59.869088",
     "status": "completed"
    },
    "tags": []
   },
   "outputs": [
    {
     "name": "stdout",
     "output_type": "stream",
     "text": [
      "/kaggle/input/retail-sales-data/product_hierarchy.csv\n",
      "/kaggle/input/retail-sales-data/store_cities.csv\n",
      "/kaggle/input/retail-sales-data/sales.csv/sales.csv\n"
     ]
    }
   ],
   "source": [
    "# This Python 3 environment comes with many helpful analytics libraries installed\n",
    "# It is defined by the kaggle/python Docker image: https://github.com/kaggle/docker-python\n",
    "# For example, here's several helpful packages to load\n",
    "\n",
    "import numpy as np # linear algebra\n",
    "import pandas as pd # data processing, CSV file I/O (e.g. pd.read_csv)\n",
    "\n",
    "# Input data files are available in the read-only \"../input/\" directory\n",
    "# For example, running this (by clicking run or !*pressing Shift+Enter) will list all files under the input directory\n",
    "\n",
    "import os\n",
    "for dirname, _, filenames in os.walk('/kaggle/input'):\n",
    "    for filename in filenames:\n",
    "        print(os.path.join(dirname, filename))\n",
    "\n",
    "# You can write up to 20GB to the current directory (/kaggle/working/) that gets preserved as output when you create a version using \"Save & Run All\" \n",
    "# You can also write temporary files to /kaggle/temp/, but they won't be saved outside of the current session"
   ]
  },
  {
   "cell_type": "code",
   "execution_count": 2,
   "id": "9c545707",
   "metadata": {
    "execution": {
     "iopub.execute_input": "2023-05-22T17:55:59.974394Z",
     "iopub.status.busy": "2023-05-22T17:55:59.973977Z",
     "iopub.status.idle": "2023-05-22T17:55:59.979393Z",
     "shell.execute_reply": "2023-05-22T17:55:59.978216Z"
    },
    "papermill": {
     "duration": 0.032575,
     "end_time": "2023-05-22T17:55:59.981834",
     "exception": false,
     "start_time": "2023-05-22T17:55:59.949259",
     "status": "completed"
    },
    "tags": []
   },
   "outputs": [],
   "source": [
    "data = \"/kaggle/input/retail-sales-data/sales.csv/sales.csv\"\n",
    "stores = \"/kaggle/input/retail-sales-data/store_cities.csv\"\n",
    "products = \"/kaggle/input/retail-sales-data/product_hierarchy.csv\""
   ]
  },
  {
   "cell_type": "markdown",
   "id": "b1eb5963",
   "metadata": {
    "papermill": {
     "duration": 0.022916,
     "end_time": "2023-05-22T17:56:00.028734",
     "exception": false,
     "start_time": "2023-05-22T17:56:00.005818",
     "status": "completed"
    },
    "tags": []
   },
   "source": [
    "## 1. Data exploration & analysis"
   ]
  },
  {
   "cell_type": "code",
   "execution_count": 3,
   "id": "34c1f968",
   "metadata": {
    "execution": {
     "iopub.execute_input": "2023-05-22T17:56:00.077911Z",
     "iopub.status.busy": "2023-05-22T17:56:00.077085Z",
     "iopub.status.idle": "2023-05-22T17:56:48.746855Z",
     "shell.execute_reply": "2023-05-22T17:56:48.745595Z"
    },
    "papermill": {
     "duration": 48.697455,
     "end_time": "2023-05-22T17:56:48.749778",
     "exception": false,
     "start_time": "2023-05-22T17:56:00.052323",
     "status": "completed"
    },
    "tags": []
   },
   "outputs": [],
   "source": [
    "sales = pd.read_csv(data, index_col = False,low_memory=False)\n",
    "stores_data = pd.read_csv(stores,index_col =False)\n",
    "products_data = pd.read_csv(products,index_col=False)"
   ]
  },
  {
   "cell_type": "code",
   "execution_count": 4,
   "id": "e38ad7b9",
   "metadata": {
    "execution": {
     "iopub.execute_input": "2023-05-22T17:56:48.799103Z",
     "iopub.status.busy": "2023-05-22T17:56:48.798217Z",
     "iopub.status.idle": "2023-05-22T17:56:48.837719Z",
     "shell.execute_reply": "2023-05-22T17:56:48.836520Z"
    },
    "papermill": {
     "duration": 0.067297,
     "end_time": "2023-05-22T17:56:48.840743",
     "exception": false,
     "start_time": "2023-05-22T17:56:48.773446",
     "status": "completed"
    },
    "tags": []
   },
   "outputs": [
    {
     "data": {
      "text/html": [
       "<div>\n",
       "<style scoped>\n",
       "    .dataframe tbody tr th:only-of-type {\n",
       "        vertical-align: middle;\n",
       "    }\n",
       "\n",
       "    .dataframe tbody tr th {\n",
       "        vertical-align: top;\n",
       "    }\n",
       "\n",
       "    .dataframe thead th {\n",
       "        text-align: right;\n",
       "    }\n",
       "</style>\n",
       "<table border=\"1\" class=\"dataframe\">\n",
       "  <thead>\n",
       "    <tr style=\"text-align: right;\">\n",
       "      <th></th>\n",
       "      <th>product_id</th>\n",
       "      <th>store_id</th>\n",
       "      <th>date</th>\n",
       "      <th>sales</th>\n",
       "      <th>revenue</th>\n",
       "      <th>stock</th>\n",
       "      <th>price</th>\n",
       "      <th>promo_type_1</th>\n",
       "      <th>promo_bin_1</th>\n",
       "      <th>promo_type_2</th>\n",
       "      <th>promo_bin_2</th>\n",
       "      <th>promo_discount_2</th>\n",
       "      <th>promo_discount_type_2</th>\n",
       "    </tr>\n",
       "  </thead>\n",
       "  <tbody>\n",
       "    <tr>\n",
       "      <th>0</th>\n",
       "      <td>P0001</td>\n",
       "      <td>S0002</td>\n",
       "      <td>2017-01-02</td>\n",
       "      <td>0.0</td>\n",
       "      <td>0.00</td>\n",
       "      <td>8.0</td>\n",
       "      <td>6.25</td>\n",
       "      <td>PR14</td>\n",
       "      <td>NaN</td>\n",
       "      <td>PR03</td>\n",
       "      <td>NaN</td>\n",
       "      <td>NaN</td>\n",
       "      <td>NaN</td>\n",
       "    </tr>\n",
       "    <tr>\n",
       "      <th>1</th>\n",
       "      <td>P0001</td>\n",
       "      <td>S0012</td>\n",
       "      <td>2017-01-02</td>\n",
       "      <td>1.0</td>\n",
       "      <td>5.30</td>\n",
       "      <td>0.0</td>\n",
       "      <td>6.25</td>\n",
       "      <td>PR14</td>\n",
       "      <td>NaN</td>\n",
       "      <td>PR03</td>\n",
       "      <td>NaN</td>\n",
       "      <td>NaN</td>\n",
       "      <td>NaN</td>\n",
       "    </tr>\n",
       "    <tr>\n",
       "      <th>2</th>\n",
       "      <td>P0001</td>\n",
       "      <td>S0013</td>\n",
       "      <td>2017-01-02</td>\n",
       "      <td>2.0</td>\n",
       "      <td>10.59</td>\n",
       "      <td>0.0</td>\n",
       "      <td>6.25</td>\n",
       "      <td>PR14</td>\n",
       "      <td>NaN</td>\n",
       "      <td>PR03</td>\n",
       "      <td>NaN</td>\n",
       "      <td>NaN</td>\n",
       "      <td>NaN</td>\n",
       "    </tr>\n",
       "    <tr>\n",
       "      <th>3</th>\n",
       "      <td>P0001</td>\n",
       "      <td>S0023</td>\n",
       "      <td>2017-01-02</td>\n",
       "      <td>0.0</td>\n",
       "      <td>0.00</td>\n",
       "      <td>6.0</td>\n",
       "      <td>6.25</td>\n",
       "      <td>PR14</td>\n",
       "      <td>NaN</td>\n",
       "      <td>PR03</td>\n",
       "      <td>NaN</td>\n",
       "      <td>NaN</td>\n",
       "      <td>NaN</td>\n",
       "    </tr>\n",
       "    <tr>\n",
       "      <th>4</th>\n",
       "      <td>P0001</td>\n",
       "      <td>S0025</td>\n",
       "      <td>2017-01-02</td>\n",
       "      <td>0.0</td>\n",
       "      <td>0.00</td>\n",
       "      <td>1.0</td>\n",
       "      <td>6.25</td>\n",
       "      <td>PR14</td>\n",
       "      <td>NaN</td>\n",
       "      <td>PR03</td>\n",
       "      <td>NaN</td>\n",
       "      <td>NaN</td>\n",
       "      <td>NaN</td>\n",
       "    </tr>\n",
       "  </tbody>\n",
       "</table>\n",
       "</div>"
      ],
      "text/plain": [
       "  product_id store_id        date  sales  revenue  stock  price promo_type_1  \\\n",
       "0      P0001    S0002  2017-01-02    0.0     0.00    8.0   6.25         PR14   \n",
       "1      P0001    S0012  2017-01-02    1.0     5.30    0.0   6.25         PR14   \n",
       "2      P0001    S0013  2017-01-02    2.0    10.59    0.0   6.25         PR14   \n",
       "3      P0001    S0023  2017-01-02    0.0     0.00    6.0   6.25         PR14   \n",
       "4      P0001    S0025  2017-01-02    0.0     0.00    1.0   6.25         PR14   \n",
       "\n",
       "  promo_bin_1 promo_type_2 promo_bin_2  promo_discount_2 promo_discount_type_2  \n",
       "0         NaN         PR03         NaN               NaN                   NaN  \n",
       "1         NaN         PR03         NaN               NaN                   NaN  \n",
       "2         NaN         PR03         NaN               NaN                   NaN  \n",
       "3         NaN         PR03         NaN               NaN                   NaN  \n",
       "4         NaN         PR03         NaN               NaN                   NaN  "
      ]
     },
     "execution_count": 4,
     "metadata": {},
     "output_type": "execute_result"
    }
   ],
   "source": [
    "sales.head()"
   ]
  },
  {
   "cell_type": "code",
   "execution_count": 5,
   "id": "7d034b7a",
   "metadata": {
    "execution": {
     "iopub.execute_input": "2023-05-22T17:56:48.890283Z",
     "iopub.status.busy": "2023-05-22T17:56:48.889868Z",
     "iopub.status.idle": "2023-05-22T17:56:48.916222Z",
     "shell.execute_reply": "2023-05-22T17:56:48.914921Z"
    },
    "papermill": {
     "duration": 0.054321,
     "end_time": "2023-05-22T17:56:48.918911",
     "exception": false,
     "start_time": "2023-05-22T17:56:48.864590",
     "status": "completed"
    },
    "tags": []
   },
   "outputs": [
    {
     "name": "stdout",
     "output_type": "stream",
     "text": [
      "<class 'pandas.core.frame.DataFrame'>\n",
      "RangeIndex: 19454838 entries, 0 to 19454837\n",
      "Data columns (total 13 columns):\n",
      " #   Column                 Dtype  \n",
      "---  ------                 -----  \n",
      " 0   product_id             object \n",
      " 1   store_id               object \n",
      " 2   date                   object \n",
      " 3   sales                  float64\n",
      " 4   revenue                float64\n",
      " 5   stock                  float64\n",
      " 6   price                  float64\n",
      " 7   promo_type_1           object \n",
      " 8   promo_bin_1            object \n",
      " 9   promo_type_2           object \n",
      " 10  promo_bin_2            object \n",
      " 11  promo_discount_2       float64\n",
      " 12  promo_discount_type_2  object \n",
      "dtypes: float64(5), object(8)\n",
      "memory usage: 1.9+ GB\n"
     ]
    }
   ],
   "source": [
    "sales.info()"
   ]
  },
  {
   "cell_type": "code",
   "execution_count": 6,
   "id": "6b3eaf8c",
   "metadata": {
    "execution": {
     "iopub.execute_input": "2023-05-22T17:56:48.971014Z",
     "iopub.status.busy": "2023-05-22T17:56:48.970621Z",
     "iopub.status.idle": "2023-05-22T17:56:48.982704Z",
     "shell.execute_reply": "2023-05-22T17:56:48.981406Z"
    },
    "papermill": {
     "duration": 0.042248,
     "end_time": "2023-05-22T17:56:48.985875",
     "exception": false,
     "start_time": "2023-05-22T17:56:48.943627",
     "status": "completed"
    },
    "tags": []
   },
   "outputs": [
    {
     "data": {
      "text/html": [
       "<div>\n",
       "<style scoped>\n",
       "    .dataframe tbody tr th:only-of-type {\n",
       "        vertical-align: middle;\n",
       "    }\n",
       "\n",
       "    .dataframe tbody tr th {\n",
       "        vertical-align: top;\n",
       "    }\n",
       "\n",
       "    .dataframe thead th {\n",
       "        text-align: right;\n",
       "    }\n",
       "</style>\n",
       "<table border=\"1\" class=\"dataframe\">\n",
       "  <thead>\n",
       "    <tr style=\"text-align: right;\">\n",
       "      <th></th>\n",
       "      <th>store_id</th>\n",
       "      <th>storetype_id</th>\n",
       "      <th>store_size</th>\n",
       "      <th>city_id</th>\n",
       "    </tr>\n",
       "  </thead>\n",
       "  <tbody>\n",
       "    <tr>\n",
       "      <th>0</th>\n",
       "      <td>S0091</td>\n",
       "      <td>ST04</td>\n",
       "      <td>19</td>\n",
       "      <td>C013</td>\n",
       "    </tr>\n",
       "    <tr>\n",
       "      <th>1</th>\n",
       "      <td>S0012</td>\n",
       "      <td>ST04</td>\n",
       "      <td>28</td>\n",
       "      <td>C005</td>\n",
       "    </tr>\n",
       "    <tr>\n",
       "      <th>2</th>\n",
       "      <td>S0045</td>\n",
       "      <td>ST04</td>\n",
       "      <td>17</td>\n",
       "      <td>C008</td>\n",
       "    </tr>\n",
       "    <tr>\n",
       "      <th>3</th>\n",
       "      <td>S0032</td>\n",
       "      <td>ST03</td>\n",
       "      <td>14</td>\n",
       "      <td>C019</td>\n",
       "    </tr>\n",
       "    <tr>\n",
       "      <th>4</th>\n",
       "      <td>S0027</td>\n",
       "      <td>ST04</td>\n",
       "      <td>24</td>\n",
       "      <td>C022</td>\n",
       "    </tr>\n",
       "  </tbody>\n",
       "</table>\n",
       "</div>"
      ],
      "text/plain": [
       "  store_id storetype_id  store_size city_id\n",
       "0    S0091         ST04          19    C013\n",
       "1    S0012         ST04          28    C005\n",
       "2    S0045         ST04          17    C008\n",
       "3    S0032         ST03          14    C019\n",
       "4    S0027         ST04          24    C022"
      ]
     },
     "execution_count": 6,
     "metadata": {},
     "output_type": "execute_result"
    }
   ],
   "source": [
    "stores_data.head()"
   ]
  },
  {
   "cell_type": "code",
   "execution_count": 7,
   "id": "e80bcd08",
   "metadata": {
    "execution": {
     "iopub.execute_input": "2023-05-22T17:56:49.036086Z",
     "iopub.status.busy": "2023-05-22T17:56:49.035703Z",
     "iopub.status.idle": "2023-05-22T17:56:49.054690Z",
     "shell.execute_reply": "2023-05-22T17:56:49.053346Z"
    },
    "papermill": {
     "duration": 0.047008,
     "end_time": "2023-05-22T17:56:49.057040",
     "exception": false,
     "start_time": "2023-05-22T17:56:49.010032",
     "status": "completed"
    },
    "tags": []
   },
   "outputs": [
    {
     "data": {
      "text/html": [
       "<div>\n",
       "<style scoped>\n",
       "    .dataframe tbody tr th:only-of-type {\n",
       "        vertical-align: middle;\n",
       "    }\n",
       "\n",
       "    .dataframe tbody tr th {\n",
       "        vertical-align: top;\n",
       "    }\n",
       "\n",
       "    .dataframe thead th {\n",
       "        text-align: right;\n",
       "    }\n",
       "</style>\n",
       "<table border=\"1\" class=\"dataframe\">\n",
       "  <thead>\n",
       "    <tr style=\"text-align: right;\">\n",
       "      <th></th>\n",
       "      <th>product_id</th>\n",
       "      <th>product_length</th>\n",
       "      <th>product_depth</th>\n",
       "      <th>product_width</th>\n",
       "      <th>cluster_id</th>\n",
       "      <th>hierarchy1_id</th>\n",
       "      <th>hierarchy2_id</th>\n",
       "      <th>hierarchy3_id</th>\n",
       "      <th>hierarchy4_id</th>\n",
       "      <th>hierarchy5_id</th>\n",
       "    </tr>\n",
       "  </thead>\n",
       "  <tbody>\n",
       "    <tr>\n",
       "      <th>0</th>\n",
       "      <td>P0000</td>\n",
       "      <td>5.0</td>\n",
       "      <td>20.0</td>\n",
       "      <td>12.0</td>\n",
       "      <td>NaN</td>\n",
       "      <td>H00</td>\n",
       "      <td>H0004</td>\n",
       "      <td>H000401</td>\n",
       "      <td>H00040105</td>\n",
       "      <td>H0004010534</td>\n",
       "    </tr>\n",
       "    <tr>\n",
       "      <th>1</th>\n",
       "      <td>P0001</td>\n",
       "      <td>13.5</td>\n",
       "      <td>22.0</td>\n",
       "      <td>20.0</td>\n",
       "      <td>cluster_5</td>\n",
       "      <td>H01</td>\n",
       "      <td>H0105</td>\n",
       "      <td>H010501</td>\n",
       "      <td>H01050100</td>\n",
       "      <td>H0105010006</td>\n",
       "    </tr>\n",
       "    <tr>\n",
       "      <th>2</th>\n",
       "      <td>P0002</td>\n",
       "      <td>22.0</td>\n",
       "      <td>40.0</td>\n",
       "      <td>22.0</td>\n",
       "      <td>cluster_0</td>\n",
       "      <td>H03</td>\n",
       "      <td>H0315</td>\n",
       "      <td>H031508</td>\n",
       "      <td>H03150800</td>\n",
       "      <td>H0315080028</td>\n",
       "    </tr>\n",
       "    <tr>\n",
       "      <th>3</th>\n",
       "      <td>P0004</td>\n",
       "      <td>2.0</td>\n",
       "      <td>13.0</td>\n",
       "      <td>4.0</td>\n",
       "      <td>cluster_3</td>\n",
       "      <td>H03</td>\n",
       "      <td>H0314</td>\n",
       "      <td>H031405</td>\n",
       "      <td>H03140500</td>\n",
       "      <td>H0314050003</td>\n",
       "    </tr>\n",
       "    <tr>\n",
       "      <th>4</th>\n",
       "      <td>P0005</td>\n",
       "      <td>16.0</td>\n",
       "      <td>30.0</td>\n",
       "      <td>16.0</td>\n",
       "      <td>cluster_9</td>\n",
       "      <td>H03</td>\n",
       "      <td>H0312</td>\n",
       "      <td>H031211</td>\n",
       "      <td>H03121109</td>\n",
       "      <td>H0312110917</td>\n",
       "    </tr>\n",
       "  </tbody>\n",
       "</table>\n",
       "</div>"
      ],
      "text/plain": [
       "  product_id  product_length  product_depth  product_width cluster_id  \\\n",
       "0      P0000             5.0           20.0           12.0        NaN   \n",
       "1      P0001            13.5           22.0           20.0  cluster_5   \n",
       "2      P0002            22.0           40.0           22.0  cluster_0   \n",
       "3      P0004             2.0           13.0            4.0  cluster_3   \n",
       "4      P0005            16.0           30.0           16.0  cluster_9   \n",
       "\n",
       "  hierarchy1_id hierarchy2_id hierarchy3_id hierarchy4_id hierarchy5_id  \n",
       "0           H00         H0004       H000401     H00040105   H0004010534  \n",
       "1           H01         H0105       H010501     H01050100   H0105010006  \n",
       "2           H03         H0315       H031508     H03150800   H0315080028  \n",
       "3           H03         H0314       H031405     H03140500   H0314050003  \n",
       "4           H03         H0312       H031211     H03121109   H0312110917  "
      ]
     },
     "execution_count": 7,
     "metadata": {},
     "output_type": "execute_result"
    }
   ],
   "source": [
    "products_data.head()"
   ]
  },
  {
   "cell_type": "code",
   "execution_count": 8,
   "id": "a673822d",
   "metadata": {
    "execution": {
     "iopub.execute_input": "2023-05-22T17:56:49.107927Z",
     "iopub.status.busy": "2023-05-22T17:56:49.107535Z",
     "iopub.status.idle": "2023-05-22T17:56:49.127795Z",
     "shell.execute_reply": "2023-05-22T17:56:49.126681Z"
    },
    "papermill": {
     "duration": 0.048651,
     "end_time": "2023-05-22T17:56:49.130350",
     "exception": false,
     "start_time": "2023-05-22T17:56:49.081699",
     "status": "completed"
    },
    "tags": []
   },
   "outputs": [
    {
     "data": {
      "text/html": [
       "<div>\n",
       "<style scoped>\n",
       "    .dataframe tbody tr th:only-of-type {\n",
       "        vertical-align: middle;\n",
       "    }\n",
       "\n",
       "    .dataframe tbody tr th {\n",
       "        vertical-align: top;\n",
       "    }\n",
       "\n",
       "    .dataframe thead th {\n",
       "        text-align: right;\n",
       "    }\n",
       "</style>\n",
       "<table border=\"1\" class=\"dataframe\">\n",
       "  <thead>\n",
       "    <tr style=\"text-align: right;\">\n",
       "      <th></th>\n",
       "      <th>product_id</th>\n",
       "      <th>store_id</th>\n",
       "      <th>date</th>\n",
       "      <th>sales</th>\n",
       "      <th>revenue</th>\n",
       "      <th>stock</th>\n",
       "      <th>price</th>\n",
       "      <th>promo_type_1</th>\n",
       "      <th>promo_bin_1</th>\n",
       "      <th>promo_type_2</th>\n",
       "      <th>promo_bin_2</th>\n",
       "      <th>promo_discount_2</th>\n",
       "      <th>promo_discount_type_2</th>\n",
       "    </tr>\n",
       "  </thead>\n",
       "  <tbody>\n",
       "    <tr>\n",
       "      <th>19454833</th>\n",
       "      <td>P0748</td>\n",
       "      <td>S0125</td>\n",
       "      <td>2019-12-29</td>\n",
       "      <td>NaN</td>\n",
       "      <td>NaN</td>\n",
       "      <td>NaN</td>\n",
       "      <td>18.9</td>\n",
       "      <td>PR14</td>\n",
       "      <td>NaN</td>\n",
       "      <td>PR03</td>\n",
       "      <td>NaN</td>\n",
       "      <td>NaN</td>\n",
       "      <td>NaN</td>\n",
       "    </tr>\n",
       "    <tr>\n",
       "      <th>19454834</th>\n",
       "      <td>P0748</td>\n",
       "      <td>S0126</td>\n",
       "      <td>2019-12-29</td>\n",
       "      <td>NaN</td>\n",
       "      <td>NaN</td>\n",
       "      <td>NaN</td>\n",
       "      <td>18.9</td>\n",
       "      <td>PR14</td>\n",
       "      <td>NaN</td>\n",
       "      <td>PR03</td>\n",
       "      <td>NaN</td>\n",
       "      <td>NaN</td>\n",
       "      <td>NaN</td>\n",
       "    </tr>\n",
       "    <tr>\n",
       "      <th>19454835</th>\n",
       "      <td>P0748</td>\n",
       "      <td>S0131</td>\n",
       "      <td>2019-12-29</td>\n",
       "      <td>NaN</td>\n",
       "      <td>NaN</td>\n",
       "      <td>NaN</td>\n",
       "      <td>18.9</td>\n",
       "      <td>PR14</td>\n",
       "      <td>NaN</td>\n",
       "      <td>PR03</td>\n",
       "      <td>NaN</td>\n",
       "      <td>NaN</td>\n",
       "      <td>NaN</td>\n",
       "    </tr>\n",
       "    <tr>\n",
       "      <th>19454836</th>\n",
       "      <td>P0748</td>\n",
       "      <td>S0132</td>\n",
       "      <td>2019-12-29</td>\n",
       "      <td>NaN</td>\n",
       "      <td>NaN</td>\n",
       "      <td>NaN</td>\n",
       "      <td>18.9</td>\n",
       "      <td>PR14</td>\n",
       "      <td>NaN</td>\n",
       "      <td>PR03</td>\n",
       "      <td>NaN</td>\n",
       "      <td>NaN</td>\n",
       "      <td>NaN</td>\n",
       "    </tr>\n",
       "    <tr>\n",
       "      <th>19454837</th>\n",
       "      <td>P0748</td>\n",
       "      <td>S0142</td>\n",
       "      <td>2019-12-29</td>\n",
       "      <td>NaN</td>\n",
       "      <td>NaN</td>\n",
       "      <td>NaN</td>\n",
       "      <td>18.9</td>\n",
       "      <td>PR14</td>\n",
       "      <td>NaN</td>\n",
       "      <td>PR03</td>\n",
       "      <td>NaN</td>\n",
       "      <td>NaN</td>\n",
       "      <td>NaN</td>\n",
       "    </tr>\n",
       "  </tbody>\n",
       "</table>\n",
       "</div>"
      ],
      "text/plain": [
       "         product_id store_id        date  sales  revenue  stock  price  \\\n",
       "19454833      P0748    S0125  2019-12-29    NaN      NaN    NaN   18.9   \n",
       "19454834      P0748    S0126  2019-12-29    NaN      NaN    NaN   18.9   \n",
       "19454835      P0748    S0131  2019-12-29    NaN      NaN    NaN   18.9   \n",
       "19454836      P0748    S0132  2019-12-29    NaN      NaN    NaN   18.9   \n",
       "19454837      P0748    S0142  2019-12-29    NaN      NaN    NaN   18.9   \n",
       "\n",
       "         promo_type_1 promo_bin_1 promo_type_2 promo_bin_2  promo_discount_2  \\\n",
       "19454833         PR14         NaN         PR03         NaN               NaN   \n",
       "19454834         PR14         NaN         PR03         NaN               NaN   \n",
       "19454835         PR14         NaN         PR03         NaN               NaN   \n",
       "19454836         PR14         NaN         PR03         NaN               NaN   \n",
       "19454837         PR14         NaN         PR03         NaN               NaN   \n",
       "\n",
       "         promo_discount_type_2  \n",
       "19454833                   NaN  \n",
       "19454834                   NaN  \n",
       "19454835                   NaN  \n",
       "19454836                   NaN  \n",
       "19454837                   NaN  "
      ]
     },
     "execution_count": 8,
     "metadata": {},
     "output_type": "execute_result"
    }
   ],
   "source": [
    "sales.tail()"
   ]
  },
  {
   "cell_type": "code",
   "execution_count": 9,
   "id": "2f9bd5d4",
   "metadata": {
    "execution": {
     "iopub.execute_input": "2023-05-22T17:56:49.182189Z",
     "iopub.status.busy": "2023-05-22T17:56:49.181773Z",
     "iopub.status.idle": "2023-05-22T17:57:33.975523Z",
     "shell.execute_reply": "2023-05-22T17:57:33.974251Z"
    },
    "papermill": {
     "duration": 44.846819,
     "end_time": "2023-05-22T17:57:34.002178",
     "exception": false,
     "start_time": "2023-05-22T17:56:49.155359",
     "status": "completed"
    },
    "tags": []
   },
   "outputs": [
    {
     "data": {
      "text/plain": [
       "product_id                      0\n",
       "store_id                        0\n",
       "date                            0\n",
       "sales                     1190762\n",
       "revenue                   1190762\n",
       "stock                     1190762\n",
       "price                      571981\n",
       "promo_type_1                    0\n",
       "promo_bin_1              16803149\n",
       "promo_type_2                    0\n",
       "promo_bin_2              19395757\n",
       "promo_discount_2         19395757\n",
       "promo_discount_type_2    19395757\n",
       "dtype: int64"
      ]
     },
     "execution_count": 9,
     "metadata": {},
     "output_type": "execute_result"
    }
   ],
   "source": [
    "sales.isnull().sum()"
   ]
  },
  {
   "cell_type": "code",
   "execution_count": 10,
   "id": "f4d40809",
   "metadata": {
    "execution": {
     "iopub.execute_input": "2023-05-22T17:57:34.054047Z",
     "iopub.status.busy": "2023-05-22T17:57:34.053596Z",
     "iopub.status.idle": "2023-05-22T17:57:34.060616Z",
     "shell.execute_reply": "2023-05-22T17:57:34.059318Z"
    },
    "papermill": {
     "duration": 0.036063,
     "end_time": "2023-05-22T17:57:34.063137",
     "exception": false,
     "start_time": "2023-05-22T17:57:34.027074",
     "status": "completed"
    },
    "tags": []
   },
   "outputs": [
    {
     "data": {
      "text/plain": [
       "(19454838, 13)"
      ]
     },
     "execution_count": 10,
     "metadata": {},
     "output_type": "execute_result"
    }
   ],
   "source": [
    "sales.shape"
   ]
  },
  {
   "cell_type": "code",
   "execution_count": 11,
   "id": "b7090256",
   "metadata": {
    "execution": {
     "iopub.execute_input": "2023-05-22T17:57:34.115655Z",
     "iopub.status.busy": "2023-05-22T17:57:34.115098Z",
     "iopub.status.idle": "2023-05-22T17:57:34.122350Z",
     "shell.execute_reply": "2023-05-22T17:57:34.121206Z"
    },
    "papermill": {
     "duration": 0.036706,
     "end_time": "2023-05-22T17:57:34.124852",
     "exception": false,
     "start_time": "2023-05-22T17:57:34.088146",
     "status": "completed"
    },
    "tags": []
   },
   "outputs": [
    {
     "data": {
      "text/plain": [
       "(144, 4)"
      ]
     },
     "execution_count": 11,
     "metadata": {},
     "output_type": "execute_result"
    }
   ],
   "source": [
    "stores_data.shape"
   ]
  },
  {
   "cell_type": "code",
   "execution_count": 12,
   "id": "9ce417cb",
   "metadata": {
    "execution": {
     "iopub.execute_input": "2023-05-22T17:57:34.178987Z",
     "iopub.status.busy": "2023-05-22T17:57:34.178547Z",
     "iopub.status.idle": "2023-05-22T17:57:34.185611Z",
     "shell.execute_reply": "2023-05-22T17:57:34.184433Z"
    },
    "papermill": {
     "duration": 0.036916,
     "end_time": "2023-05-22T17:57:34.187990",
     "exception": false,
     "start_time": "2023-05-22T17:57:34.151074",
     "status": "completed"
    },
    "tags": []
   },
   "outputs": [
    {
     "data": {
      "text/plain": [
       "(699, 10)"
      ]
     },
     "execution_count": 12,
     "metadata": {},
     "output_type": "execute_result"
    }
   ],
   "source": [
    "products_data.shape"
   ]
  },
  {
   "cell_type": "markdown",
   "id": "06bf7023",
   "metadata": {
    "papermill": {
     "duration": 0.025001,
     "end_time": "2023-05-22T17:57:34.238683",
     "exception": false,
     "start_time": "2023-05-22T17:57:34.213682",
     "status": "completed"
    },
    "tags": []
   },
   "source": [
    "### Transformation du colonne date aux format datetime"
   ]
  },
  {
   "cell_type": "code",
   "execution_count": 13,
   "id": "be3ff33e",
   "metadata": {
    "execution": {
     "iopub.execute_input": "2023-05-22T17:57:34.291765Z",
     "iopub.status.busy": "2023-05-22T17:57:34.290900Z",
     "iopub.status.idle": "2023-05-22T17:57:38.951737Z",
     "shell.execute_reply": "2023-05-22T17:57:38.950769Z"
    },
    "papermill": {
     "duration": 4.690226,
     "end_time": "2023-05-22T17:57:38.954437",
     "exception": false,
     "start_time": "2023-05-22T17:57:34.264211",
     "status": "completed"
    },
    "tags": []
   },
   "outputs": [],
   "source": [
    "sales['date'] = pd.to_datetime(sales['date'])"
   ]
  },
  {
   "cell_type": "code",
   "execution_count": 14,
   "id": "6cc3804d",
   "metadata": {
    "execution": {
     "iopub.execute_input": "2023-05-22T17:57:39.008742Z",
     "iopub.status.busy": "2023-05-22T17:57:39.007834Z",
     "iopub.status.idle": "2023-05-22T17:57:39.721835Z",
     "shell.execute_reply": "2023-05-22T17:57:39.720595Z"
    },
    "papermill": {
     "duration": 0.744503,
     "end_time": "2023-05-22T17:57:39.724929",
     "exception": false,
     "start_time": "2023-05-22T17:57:38.980426",
     "status": "completed"
    },
    "tags": []
   },
   "outputs": [],
   "source": [
    "cols_to_drop = [\"promo_type_1\",\"promo_bin_1\",\"promo_bin_2\",\"promo_type_2\",\"promo_discount_2\",\"promo_discount_type_2\"]\n",
    "sales = sales.drop(cols_to_drop,axis=1)"
   ]
  },
  {
   "cell_type": "code",
   "execution_count": 15,
   "id": "4cc7f0f8",
   "metadata": {
    "execution": {
     "iopub.execute_input": "2023-05-22T17:57:39.779257Z",
     "iopub.status.busy": "2023-05-22T17:57:39.778833Z",
     "iopub.status.idle": "2023-05-22T17:57:39.787533Z",
     "shell.execute_reply": "2023-05-22T17:57:39.786243Z"
    },
    "papermill": {
     "duration": 0.03918,
     "end_time": "2023-05-22T17:57:39.790139",
     "exception": false,
     "start_time": "2023-05-22T17:57:39.750959",
     "status": "completed"
    },
    "tags": []
   },
   "outputs": [
    {
     "data": {
      "text/plain": [
       "product_id            object\n",
       "store_id              object\n",
       "date          datetime64[ns]\n",
       "sales                float64\n",
       "revenue              float64\n",
       "stock                float64\n",
       "price                float64\n",
       "dtype: object"
      ]
     },
     "execution_count": 15,
     "metadata": {},
     "output_type": "execute_result"
    }
   ],
   "source": [
    "#Checking the datatypes of different columns of the data\n",
    "sales.dtypes"
   ]
  },
  {
   "cell_type": "code",
   "execution_count": 16,
   "id": "df376df1",
   "metadata": {
    "execution": {
     "iopub.execute_input": "2023-05-22T17:57:39.842664Z",
     "iopub.status.busy": "2023-05-22T17:57:39.842256Z",
     "iopub.status.idle": "2023-05-22T17:57:48.490681Z",
     "shell.execute_reply": "2023-05-22T17:57:48.489153Z"
    },
    "papermill": {
     "duration": 8.678287,
     "end_time": "2023-05-22T17:57:48.493655",
     "exception": false,
     "start_time": "2023-05-22T17:57:39.815368",
     "status": "completed"
    },
    "tags": []
   },
   "outputs": [],
   "source": [
    "sales['product_id'] = sales['product_id'].apply(str)\n",
    "sales['store_id']  = sales['store_id'].apply(str)"
   ]
  },
  {
   "cell_type": "code",
   "execution_count": 17,
   "id": "362ab884",
   "metadata": {
    "execution": {
     "iopub.execute_input": "2023-05-22T17:57:48.547083Z",
     "iopub.status.busy": "2023-05-22T17:57:48.546691Z",
     "iopub.status.idle": "2023-05-22T17:58:00.790851Z",
     "shell.execute_reply": "2023-05-22T17:58:00.789578Z"
    },
    "papermill": {
     "duration": 12.27356,
     "end_time": "2023-05-22T17:58:00.793520",
     "exception": false,
     "start_time": "2023-05-22T17:57:48.519960",
     "status": "completed"
    },
    "tags": []
   },
   "outputs": [
    {
     "data": {
      "text/plain": [
       "product_id          0\n",
       "store_id            0\n",
       "date                0\n",
       "sales         1190762\n",
       "revenue       1190762\n",
       "stock         1190762\n",
       "price          571981\n",
       "dtype: int64"
      ]
     },
     "execution_count": 17,
     "metadata": {},
     "output_type": "execute_result"
    }
   ],
   "source": [
    "#Checking the count of NA values in each column\n",
    "sales.isna().sum()"
   ]
  },
  {
   "cell_type": "markdown",
   "id": "6eff6d52",
   "metadata": {
    "papermill": {
     "duration": 0.025484,
     "end_time": "2023-05-22T17:58:00.844876",
     "exception": false,
     "start_time": "2023-05-22T17:58:00.819392",
     "status": "completed"
    },
    "tags": []
   },
   "source": [
    "## => il existe des valeurs de 0 : dans notre cas chaque ligne signifie un historique journalière \n",
    "## => On doit donc supprimer que les lignes qui ont seulement la combinaison suivante : sales + revenue + stock = 0"
   ]
  },
  {
   "cell_type": "markdown",
   "id": "879b6d72",
   "metadata": {
    "papermill": {
     "duration": 0.02522,
     "end_time": "2023-05-22T17:58:00.895610",
     "exception": false,
     "start_time": "2023-05-22T17:58:00.870390",
     "status": "completed"
    },
    "tags": []
   },
   "source": [
    "# 2. EDA "
   ]
  },
  {
   "cell_type": "code",
   "execution_count": 18,
   "id": "5678fe1b",
   "metadata": {
    "execution": {
     "iopub.execute_input": "2023-05-22T17:58:00.949302Z",
     "iopub.status.busy": "2023-05-22T17:58:00.948734Z",
     "iopub.status.idle": "2023-05-22T17:58:33.979999Z",
     "shell.execute_reply": "2023-05-22T17:58:33.978507Z"
    },
    "papermill": {
     "duration": 33.061371,
     "end_time": "2023-05-22T17:58:33.982995",
     "exception": false,
     "start_time": "2023-05-22T17:58:00.921624",
     "status": "completed"
    },
    "tags": []
   },
   "outputs": [],
   "source": [
    "EDA_Data = pd.merge(sales, stores_data, on='store_id')\n",
    "EDA_Data = pd.merge(EDA_Data, products_data, on='product_id')"
   ]
  },
  {
   "cell_type": "code",
   "execution_count": 19,
   "id": "f9ab2343",
   "metadata": {
    "execution": {
     "iopub.execute_input": "2023-05-22T17:58:34.036960Z",
     "iopub.status.busy": "2023-05-22T17:58:34.036257Z",
     "iopub.status.idle": "2023-05-22T17:58:34.062979Z",
     "shell.execute_reply": "2023-05-22T17:58:34.061876Z"
    },
    "papermill": {
     "duration": 0.056708,
     "end_time": "2023-05-22T17:58:34.065633",
     "exception": false,
     "start_time": "2023-05-22T17:58:34.008925",
     "status": "completed"
    },
    "tags": []
   },
   "outputs": [
    {
     "data": {
      "text/html": [
       "<div>\n",
       "<style scoped>\n",
       "    .dataframe tbody tr th:only-of-type {\n",
       "        vertical-align: middle;\n",
       "    }\n",
       "\n",
       "    .dataframe tbody tr th {\n",
       "        vertical-align: top;\n",
       "    }\n",
       "\n",
       "    .dataframe thead th {\n",
       "        text-align: right;\n",
       "    }\n",
       "</style>\n",
       "<table border=\"1\" class=\"dataframe\">\n",
       "  <thead>\n",
       "    <tr style=\"text-align: right;\">\n",
       "      <th></th>\n",
       "      <th>product_id</th>\n",
       "      <th>store_id</th>\n",
       "      <th>date</th>\n",
       "      <th>sales</th>\n",
       "      <th>revenue</th>\n",
       "      <th>stock</th>\n",
       "      <th>price</th>\n",
       "      <th>storetype_id</th>\n",
       "      <th>store_size</th>\n",
       "      <th>city_id</th>\n",
       "      <th>product_length</th>\n",
       "      <th>product_depth</th>\n",
       "      <th>product_width</th>\n",
       "      <th>cluster_id</th>\n",
       "      <th>hierarchy1_id</th>\n",
       "      <th>hierarchy2_id</th>\n",
       "      <th>hierarchy3_id</th>\n",
       "      <th>hierarchy4_id</th>\n",
       "      <th>hierarchy5_id</th>\n",
       "    </tr>\n",
       "  </thead>\n",
       "  <tbody>\n",
       "    <tr>\n",
       "      <th>0</th>\n",
       "      <td>P0001</td>\n",
       "      <td>S0002</td>\n",
       "      <td>2017-01-02</td>\n",
       "      <td>0.0</td>\n",
       "      <td>0.0</td>\n",
       "      <td>8.0</td>\n",
       "      <td>6.25</td>\n",
       "      <td>ST04</td>\n",
       "      <td>39</td>\n",
       "      <td>C007</td>\n",
       "      <td>13.5</td>\n",
       "      <td>22.0</td>\n",
       "      <td>20.0</td>\n",
       "      <td>cluster_5</td>\n",
       "      <td>H01</td>\n",
       "      <td>H0105</td>\n",
       "      <td>H010501</td>\n",
       "      <td>H01050100</td>\n",
       "      <td>H0105010006</td>\n",
       "    </tr>\n",
       "    <tr>\n",
       "      <th>1</th>\n",
       "      <td>P0001</td>\n",
       "      <td>S0002</td>\n",
       "      <td>2017-01-03</td>\n",
       "      <td>0.0</td>\n",
       "      <td>0.0</td>\n",
       "      <td>8.0</td>\n",
       "      <td>6.25</td>\n",
       "      <td>ST04</td>\n",
       "      <td>39</td>\n",
       "      <td>C007</td>\n",
       "      <td>13.5</td>\n",
       "      <td>22.0</td>\n",
       "      <td>20.0</td>\n",
       "      <td>cluster_5</td>\n",
       "      <td>H01</td>\n",
       "      <td>H0105</td>\n",
       "      <td>H010501</td>\n",
       "      <td>H01050100</td>\n",
       "      <td>H0105010006</td>\n",
       "    </tr>\n",
       "    <tr>\n",
       "      <th>2</th>\n",
       "      <td>P0001</td>\n",
       "      <td>S0002</td>\n",
       "      <td>2017-01-04</td>\n",
       "      <td>0.0</td>\n",
       "      <td>0.0</td>\n",
       "      <td>8.0</td>\n",
       "      <td>6.25</td>\n",
       "      <td>ST04</td>\n",
       "      <td>39</td>\n",
       "      <td>C007</td>\n",
       "      <td>13.5</td>\n",
       "      <td>22.0</td>\n",
       "      <td>20.0</td>\n",
       "      <td>cluster_5</td>\n",
       "      <td>H01</td>\n",
       "      <td>H0105</td>\n",
       "      <td>H010501</td>\n",
       "      <td>H01050100</td>\n",
       "      <td>H0105010006</td>\n",
       "    </tr>\n",
       "    <tr>\n",
       "      <th>3</th>\n",
       "      <td>P0001</td>\n",
       "      <td>S0002</td>\n",
       "      <td>2017-01-05</td>\n",
       "      <td>0.0</td>\n",
       "      <td>0.0</td>\n",
       "      <td>8.0</td>\n",
       "      <td>6.25</td>\n",
       "      <td>ST04</td>\n",
       "      <td>39</td>\n",
       "      <td>C007</td>\n",
       "      <td>13.5</td>\n",
       "      <td>22.0</td>\n",
       "      <td>20.0</td>\n",
       "      <td>cluster_5</td>\n",
       "      <td>H01</td>\n",
       "      <td>H0105</td>\n",
       "      <td>H010501</td>\n",
       "      <td>H01050100</td>\n",
       "      <td>H0105010006</td>\n",
       "    </tr>\n",
       "    <tr>\n",
       "      <th>4</th>\n",
       "      <td>P0001</td>\n",
       "      <td>S0002</td>\n",
       "      <td>2017-01-06</td>\n",
       "      <td>0.0</td>\n",
       "      <td>0.0</td>\n",
       "      <td>8.0</td>\n",
       "      <td>6.25</td>\n",
       "      <td>ST04</td>\n",
       "      <td>39</td>\n",
       "      <td>C007</td>\n",
       "      <td>13.5</td>\n",
       "      <td>22.0</td>\n",
       "      <td>20.0</td>\n",
       "      <td>cluster_5</td>\n",
       "      <td>H01</td>\n",
       "      <td>H0105</td>\n",
       "      <td>H010501</td>\n",
       "      <td>H01050100</td>\n",
       "      <td>H0105010006</td>\n",
       "    </tr>\n",
       "  </tbody>\n",
       "</table>\n",
       "</div>"
      ],
      "text/plain": [
       "  product_id store_id       date  sales  revenue  stock  price storetype_id  \\\n",
       "0      P0001    S0002 2017-01-02    0.0      0.0    8.0   6.25         ST04   \n",
       "1      P0001    S0002 2017-01-03    0.0      0.0    8.0   6.25         ST04   \n",
       "2      P0001    S0002 2017-01-04    0.0      0.0    8.0   6.25         ST04   \n",
       "3      P0001    S0002 2017-01-05    0.0      0.0    8.0   6.25         ST04   \n",
       "4      P0001    S0002 2017-01-06    0.0      0.0    8.0   6.25         ST04   \n",
       "\n",
       "   store_size city_id  product_length  product_depth  product_width  \\\n",
       "0          39    C007            13.5           22.0           20.0   \n",
       "1          39    C007            13.5           22.0           20.0   \n",
       "2          39    C007            13.5           22.0           20.0   \n",
       "3          39    C007            13.5           22.0           20.0   \n",
       "4          39    C007            13.5           22.0           20.0   \n",
       "\n",
       "  cluster_id hierarchy1_id hierarchy2_id hierarchy3_id hierarchy4_id  \\\n",
       "0  cluster_5           H01         H0105       H010501     H01050100   \n",
       "1  cluster_5           H01         H0105       H010501     H01050100   \n",
       "2  cluster_5           H01         H0105       H010501     H01050100   \n",
       "3  cluster_5           H01         H0105       H010501     H01050100   \n",
       "4  cluster_5           H01         H0105       H010501     H01050100   \n",
       "\n",
       "  hierarchy5_id  \n",
       "0   H0105010006  \n",
       "1   H0105010006  \n",
       "2   H0105010006  \n",
       "3   H0105010006  \n",
       "4   H0105010006  "
      ]
     },
     "execution_count": 19,
     "metadata": {},
     "output_type": "execute_result"
    }
   ],
   "source": [
    "EDA_Data.head()"
   ]
  },
  {
   "cell_type": "code",
   "execution_count": 20,
   "id": "202840cf",
   "metadata": {
    "execution": {
     "iopub.execute_input": "2023-05-22T17:58:34.121144Z",
     "iopub.status.busy": "2023-05-22T17:58:34.119721Z",
     "iopub.status.idle": "2023-05-22T17:58:34.133033Z",
     "shell.execute_reply": "2023-05-22T17:58:34.131632Z"
    },
    "papermill": {
     "duration": 0.043532,
     "end_time": "2023-05-22T17:58:34.135821",
     "exception": false,
     "start_time": "2023-05-22T17:58:34.092289",
     "status": "completed"
    },
    "tags": []
   },
   "outputs": [
    {
     "name": "stdout",
     "output_type": "stream",
     "text": [
      "<class 'pandas.core.frame.DataFrame'>\n",
      "Int64Index: 19454838 entries, 0 to 19454837\n",
      "Data columns (total 19 columns):\n",
      " #   Column          Dtype         \n",
      "---  ------          -----         \n",
      " 0   product_id      object        \n",
      " 1   store_id        object        \n",
      " 2   date            datetime64[ns]\n",
      " 3   sales           float64       \n",
      " 4   revenue         float64       \n",
      " 5   stock           float64       \n",
      " 6   price           float64       \n",
      " 7   storetype_id    object        \n",
      " 8   store_size      int64         \n",
      " 9   city_id         object        \n",
      " 10  product_length  float64       \n",
      " 11  product_depth   float64       \n",
      " 12  product_width   float64       \n",
      " 13  cluster_id      object        \n",
      " 14  hierarchy1_id   object        \n",
      " 15  hierarchy2_id   object        \n",
      " 16  hierarchy3_id   object        \n",
      " 17  hierarchy4_id   object        \n",
      " 18  hierarchy5_id   object        \n",
      "dtypes: datetime64[ns](1), float64(7), int64(1), object(10)\n",
      "memory usage: 2.9+ GB\n"
     ]
    }
   ],
   "source": [
    "EDA_Data.info()"
   ]
  },
  {
   "cell_type": "code",
   "execution_count": 21,
   "id": "a4f659e1",
   "metadata": {
    "execution": {
     "iopub.execute_input": "2023-05-22T17:58:34.191191Z",
     "iopub.status.busy": "2023-05-22T17:58:34.190767Z",
     "iopub.status.idle": "2023-05-22T17:58:36.367650Z",
     "shell.execute_reply": "2023-05-22T17:58:36.366427Z"
    },
    "papermill": {
     "duration": 2.20759,
     "end_time": "2023-05-22T17:58:36.370407",
     "exception": false,
     "start_time": "2023-05-22T17:58:34.162817",
     "status": "completed"
    },
    "tags": []
   },
   "outputs": [
    {
     "name": "stdout",
     "output_type": "stream",
     "text": [
      "store_id\n",
      "S0085    432608.517\n",
      "S0097    322597.646\n",
      "S0026    218628.704\n",
      "S0062    208001.063\n",
      "S0038    203208.971\n",
      "S0020    196840.589\n",
      "S0115    168548.224\n",
      "S0028    160845.278\n",
      "S0112    158000.516\n",
      "S0095    144719.059\n",
      "Name: sales, dtype: float64\n"
     ]
    }
   ],
   "source": [
    "highest_sales = EDA_Data.groupby('store_id')['sales'].sum().sort_values(ascending=False).head(10)\n",
    "print(highest_sales)"
   ]
  },
  {
   "cell_type": "code",
   "execution_count": 22,
   "id": "4d951328",
   "metadata": {
    "execution": {
     "iopub.execute_input": "2023-05-22T17:58:36.424514Z",
     "iopub.status.busy": "2023-05-22T17:58:36.424089Z",
     "iopub.status.idle": "2023-05-22T17:58:36.836186Z",
     "shell.execute_reply": "2023-05-22T17:58:36.834885Z"
    },
    "papermill": {
     "duration": 0.442192,
     "end_time": "2023-05-22T17:58:36.838742",
     "exception": false,
     "start_time": "2023-05-22T17:58:36.396550",
     "status": "completed"
    },
    "tags": []
   },
   "outputs": [
    {
     "data": {
      "text/html": [
       "        <script type=\"text/javascript\">\n",
       "        window.PlotlyConfig = {MathJaxConfig: 'local'};\n",
       "        if (window.MathJax && window.MathJax.Hub && window.MathJax.Hub.Config) {window.MathJax.Hub.Config({SVG: {font: \"STIX-Web\"}});}\n",
       "        if (typeof require !== 'undefined') {\n",
       "        require.undef(\"plotly\");\n",
       "        requirejs.config({\n",
       "            paths: {\n",
       "                'plotly': ['https://cdn.plot.ly/plotly-2.20.0.min']\n",
       "            }\n",
       "        });\n",
       "        require(['plotly'], function(Plotly) {\n",
       "            window._Plotly = Plotly;\n",
       "        });\n",
       "        }\n",
       "        </script>\n",
       "        "
      ]
     },
     "metadata": {},
     "output_type": "display_data"
    },
    {
     "data": {
      "text/html": [
       "<div>                            <div id=\"fb8b1193-b2f3-44cc-ab50-fc3ef715a59d\" class=\"plotly-graph-div\" style=\"height:525px; width:100%;\"></div>            <script type=\"text/javascript\">                require([\"plotly\"], function(Plotly) {                    window.PLOTLYENV=window.PLOTLYENV || {};                                    if (document.getElementById(\"fb8b1193-b2f3-44cc-ab50-fc3ef715a59d\")) {                    Plotly.newPlot(                        \"fb8b1193-b2f3-44cc-ab50-fc3ef715a59d\",                        [{\"marker\":{\"color\":[432608.517,322597.646,218628.704,208001.063,203208.971,196840.589,168548.224,160845.278,158000.516,144719.059],\"colorscale\":[[0.0,\"rgb(255,245,240)\"],[0.125,\"rgb(254,224,210)\"],[0.25,\"rgb(252,187,161)\"],[0.375,\"rgb(252,146,114)\"],[0.5,\"rgb(251,106,74)\"],[0.625,\"rgb(239,59,44)\"],[0.75,\"rgb(203,24,29)\"],[0.875,\"rgb(165,15,21)\"],[1.0,\"rgb(103,0,13)\"]]},\"x\":[\"S0085\",\"S0097\",\"S0026\",\"S0062\",\"S0038\",\"S0020\",\"S0115\",\"S0028\",\"S0112\",\"S0095\"],\"y\":[432608.517,322597.646,218628.704,208001.063,203208.971,196840.589,168548.224,160845.278,158000.516,144719.059],\"type\":\"bar\"}],                        {\"template\":{\"data\":{\"histogram2dcontour\":[{\"type\":\"histogram2dcontour\",\"colorbar\":{\"outlinewidth\":0,\"ticks\":\"\"},\"colorscale\":[[0.0,\"#0d0887\"],[0.1111111111111111,\"#46039f\"],[0.2222222222222222,\"#7201a8\"],[0.3333333333333333,\"#9c179e\"],[0.4444444444444444,\"#bd3786\"],[0.5555555555555556,\"#d8576b\"],[0.6666666666666666,\"#ed7953\"],[0.7777777777777778,\"#fb9f3a\"],[0.8888888888888888,\"#fdca26\"],[1.0,\"#f0f921\"]]}],\"choropleth\":[{\"type\":\"choropleth\",\"colorbar\":{\"outlinewidth\":0,\"ticks\":\"\"}}],\"histogram2d\":[{\"type\":\"histogram2d\",\"colorbar\":{\"outlinewidth\":0,\"ticks\":\"\"},\"colorscale\":[[0.0,\"#0d0887\"],[0.1111111111111111,\"#46039f\"],[0.2222222222222222,\"#7201a8\"],[0.3333333333333333,\"#9c179e\"],[0.4444444444444444,\"#bd3786\"],[0.5555555555555556,\"#d8576b\"],[0.6666666666666666,\"#ed7953\"],[0.7777777777777778,\"#fb9f3a\"],[0.8888888888888888,\"#fdca26\"],[1.0,\"#f0f921\"]]}],\"heatmap\":[{\"type\":\"heatmap\",\"colorbar\":{\"outlinewidth\":0,\"ticks\":\"\"},\"colorscale\":[[0.0,\"#0d0887\"],[0.1111111111111111,\"#46039f\"],[0.2222222222222222,\"#7201a8\"],[0.3333333333333333,\"#9c179e\"],[0.4444444444444444,\"#bd3786\"],[0.5555555555555556,\"#d8576b\"],[0.6666666666666666,\"#ed7953\"],[0.7777777777777778,\"#fb9f3a\"],[0.8888888888888888,\"#fdca26\"],[1.0,\"#f0f921\"]]}],\"heatmapgl\":[{\"type\":\"heatmapgl\",\"colorbar\":{\"outlinewidth\":0,\"ticks\":\"\"},\"colorscale\":[[0.0,\"#0d0887\"],[0.1111111111111111,\"#46039f\"],[0.2222222222222222,\"#7201a8\"],[0.3333333333333333,\"#9c179e\"],[0.4444444444444444,\"#bd3786\"],[0.5555555555555556,\"#d8576b\"],[0.6666666666666666,\"#ed7953\"],[0.7777777777777778,\"#fb9f3a\"],[0.8888888888888888,\"#fdca26\"],[1.0,\"#f0f921\"]]}],\"contourcarpet\":[{\"type\":\"contourcarpet\",\"colorbar\":{\"outlinewidth\":0,\"ticks\":\"\"}}],\"contour\":[{\"type\":\"contour\",\"colorbar\":{\"outlinewidth\":0,\"ticks\":\"\"},\"colorscale\":[[0.0,\"#0d0887\"],[0.1111111111111111,\"#46039f\"],[0.2222222222222222,\"#7201a8\"],[0.3333333333333333,\"#9c179e\"],[0.4444444444444444,\"#bd3786\"],[0.5555555555555556,\"#d8576b\"],[0.6666666666666666,\"#ed7953\"],[0.7777777777777778,\"#fb9f3a\"],[0.8888888888888888,\"#fdca26\"],[1.0,\"#f0f921\"]]}],\"surface\":[{\"type\":\"surface\",\"colorbar\":{\"outlinewidth\":0,\"ticks\":\"\"},\"colorscale\":[[0.0,\"#0d0887\"],[0.1111111111111111,\"#46039f\"],[0.2222222222222222,\"#7201a8\"],[0.3333333333333333,\"#9c179e\"],[0.4444444444444444,\"#bd3786\"],[0.5555555555555556,\"#d8576b\"],[0.6666666666666666,\"#ed7953\"],[0.7777777777777778,\"#fb9f3a\"],[0.8888888888888888,\"#fdca26\"],[1.0,\"#f0f921\"]]}],\"mesh3d\":[{\"type\":\"mesh3d\",\"colorbar\":{\"outlinewidth\":0,\"ticks\":\"\"}}],\"scatter\":[{\"fillpattern\":{\"fillmode\":\"overlay\",\"size\":10,\"solidity\":0.2},\"type\":\"scatter\"}],\"parcoords\":[{\"type\":\"parcoords\",\"line\":{\"colorbar\":{\"outlinewidth\":0,\"ticks\":\"\"}}}],\"scatterpolargl\":[{\"type\":\"scatterpolargl\",\"marker\":{\"colorbar\":{\"outlinewidth\":0,\"ticks\":\"\"}}}],\"bar\":[{\"error_x\":{\"color\":\"#2a3f5f\"},\"error_y\":{\"color\":\"#2a3f5f\"},\"marker\":{\"line\":{\"color\":\"#E5ECF6\",\"width\":0.5},\"pattern\":{\"fillmode\":\"overlay\",\"size\":10,\"solidity\":0.2}},\"type\":\"bar\"}],\"scattergeo\":[{\"type\":\"scattergeo\",\"marker\":{\"colorbar\":{\"outlinewidth\":0,\"ticks\":\"\"}}}],\"scatterpolar\":[{\"type\":\"scatterpolar\",\"marker\":{\"colorbar\":{\"outlinewidth\":0,\"ticks\":\"\"}}}],\"histogram\":[{\"marker\":{\"pattern\":{\"fillmode\":\"overlay\",\"size\":10,\"solidity\":0.2}},\"type\":\"histogram\"}],\"scattergl\":[{\"type\":\"scattergl\",\"marker\":{\"colorbar\":{\"outlinewidth\":0,\"ticks\":\"\"}}}],\"scatter3d\":[{\"type\":\"scatter3d\",\"line\":{\"colorbar\":{\"outlinewidth\":0,\"ticks\":\"\"}},\"marker\":{\"colorbar\":{\"outlinewidth\":0,\"ticks\":\"\"}}}],\"scattermapbox\":[{\"type\":\"scattermapbox\",\"marker\":{\"colorbar\":{\"outlinewidth\":0,\"ticks\":\"\"}}}],\"scatterternary\":[{\"type\":\"scatterternary\",\"marker\":{\"colorbar\":{\"outlinewidth\":0,\"ticks\":\"\"}}}],\"scattercarpet\":[{\"type\":\"scattercarpet\",\"marker\":{\"colorbar\":{\"outlinewidth\":0,\"ticks\":\"\"}}}],\"carpet\":[{\"aaxis\":{\"endlinecolor\":\"#2a3f5f\",\"gridcolor\":\"white\",\"linecolor\":\"white\",\"minorgridcolor\":\"white\",\"startlinecolor\":\"#2a3f5f\"},\"baxis\":{\"endlinecolor\":\"#2a3f5f\",\"gridcolor\":\"white\",\"linecolor\":\"white\",\"minorgridcolor\":\"white\",\"startlinecolor\":\"#2a3f5f\"},\"type\":\"carpet\"}],\"table\":[{\"cells\":{\"fill\":{\"color\":\"#EBF0F8\"},\"line\":{\"color\":\"white\"}},\"header\":{\"fill\":{\"color\":\"#C8D4E3\"},\"line\":{\"color\":\"white\"}},\"type\":\"table\"}],\"barpolar\":[{\"marker\":{\"line\":{\"color\":\"#E5ECF6\",\"width\":0.5},\"pattern\":{\"fillmode\":\"overlay\",\"size\":10,\"solidity\":0.2}},\"type\":\"barpolar\"}],\"pie\":[{\"automargin\":true,\"type\":\"pie\"}]},\"layout\":{\"autotypenumbers\":\"strict\",\"colorway\":[\"#636efa\",\"#EF553B\",\"#00cc96\",\"#ab63fa\",\"#FFA15A\",\"#19d3f3\",\"#FF6692\",\"#B6E880\",\"#FF97FF\",\"#FECB52\"],\"font\":{\"color\":\"#2a3f5f\"},\"hovermode\":\"closest\",\"hoverlabel\":{\"align\":\"left\"},\"paper_bgcolor\":\"white\",\"plot_bgcolor\":\"#E5ECF6\",\"polar\":{\"bgcolor\":\"#E5ECF6\",\"angularaxis\":{\"gridcolor\":\"white\",\"linecolor\":\"white\",\"ticks\":\"\"},\"radialaxis\":{\"gridcolor\":\"white\",\"linecolor\":\"white\",\"ticks\":\"\"}},\"ternary\":{\"bgcolor\":\"#E5ECF6\",\"aaxis\":{\"gridcolor\":\"white\",\"linecolor\":\"white\",\"ticks\":\"\"},\"baxis\":{\"gridcolor\":\"white\",\"linecolor\":\"white\",\"ticks\":\"\"},\"caxis\":{\"gridcolor\":\"white\",\"linecolor\":\"white\",\"ticks\":\"\"}},\"coloraxis\":{\"colorbar\":{\"outlinewidth\":0,\"ticks\":\"\"}},\"colorscale\":{\"sequential\":[[0.0,\"#0d0887\"],[0.1111111111111111,\"#46039f\"],[0.2222222222222222,\"#7201a8\"],[0.3333333333333333,\"#9c179e\"],[0.4444444444444444,\"#bd3786\"],[0.5555555555555556,\"#d8576b\"],[0.6666666666666666,\"#ed7953\"],[0.7777777777777778,\"#fb9f3a\"],[0.8888888888888888,\"#fdca26\"],[1.0,\"#f0f921\"]],\"sequentialminus\":[[0.0,\"#0d0887\"],[0.1111111111111111,\"#46039f\"],[0.2222222222222222,\"#7201a8\"],[0.3333333333333333,\"#9c179e\"],[0.4444444444444444,\"#bd3786\"],[0.5555555555555556,\"#d8576b\"],[0.6666666666666666,\"#ed7953\"],[0.7777777777777778,\"#fb9f3a\"],[0.8888888888888888,\"#fdca26\"],[1.0,\"#f0f921\"]],\"diverging\":[[0,\"#8e0152\"],[0.1,\"#c51b7d\"],[0.2,\"#de77ae\"],[0.3,\"#f1b6da\"],[0.4,\"#fde0ef\"],[0.5,\"#f7f7f7\"],[0.6,\"#e6f5d0\"],[0.7,\"#b8e186\"],[0.8,\"#7fbc41\"],[0.9,\"#4d9221\"],[1,\"#276419\"]]},\"xaxis\":{\"gridcolor\":\"white\",\"linecolor\":\"white\",\"ticks\":\"\",\"title\":{\"standoff\":15},\"zerolinecolor\":\"white\",\"automargin\":true,\"zerolinewidth\":2},\"yaxis\":{\"gridcolor\":\"white\",\"linecolor\":\"white\",\"ticks\":\"\",\"title\":{\"standoff\":15},\"zerolinecolor\":\"white\",\"automargin\":true,\"zerolinewidth\":2},\"scene\":{\"xaxis\":{\"backgroundcolor\":\"#E5ECF6\",\"gridcolor\":\"white\",\"linecolor\":\"white\",\"showbackground\":true,\"ticks\":\"\",\"zerolinecolor\":\"white\",\"gridwidth\":2},\"yaxis\":{\"backgroundcolor\":\"#E5ECF6\",\"gridcolor\":\"white\",\"linecolor\":\"white\",\"showbackground\":true,\"ticks\":\"\",\"zerolinecolor\":\"white\",\"gridwidth\":2},\"zaxis\":{\"backgroundcolor\":\"#E5ECF6\",\"gridcolor\":\"white\",\"linecolor\":\"white\",\"showbackground\":true,\"ticks\":\"\",\"zerolinecolor\":\"white\",\"gridwidth\":2}},\"shapedefaults\":{\"line\":{\"color\":\"#2a3f5f\"}},\"annotationdefaults\":{\"arrowcolor\":\"#2a3f5f\",\"arrowhead\":0,\"arrowwidth\":1},\"geo\":{\"bgcolor\":\"white\",\"landcolor\":\"#E5ECF6\",\"subunitcolor\":\"white\",\"showland\":true,\"showlakes\":true,\"lakecolor\":\"white\"},\"title\":{\"x\":0.05},\"mapbox\":{\"style\":\"light\"}}},\"title\":{\"text\":\"Top 10 Magasins par montants des ventes\"},\"xaxis\":{\"title\":{\"text\":\"Nom du Magasin\"}},\"yaxis\":{\"title\":{\"text\":\"Total Des ventes\"}}},                        {\"responsive\": true}                    ).then(function(){\n",
       "                            \n",
       "var gd = document.getElementById('fb8b1193-b2f3-44cc-ab50-fc3ef715a59d');\n",
       "var x = new MutationObserver(function (mutations, observer) {{\n",
       "        var display = window.getComputedStyle(gd).display;\n",
       "        if (!display || display === 'none') {{\n",
       "            console.log([gd, 'removed!']);\n",
       "            Plotly.purge(gd);\n",
       "            observer.disconnect();\n",
       "        }}\n",
       "}});\n",
       "\n",
       "// Listen for the removal of the full notebook cells\n",
       "var notebookContainer = gd.closest('#notebook-container');\n",
       "if (notebookContainer) {{\n",
       "    x.observe(notebookContainer, {childList: true});\n",
       "}}\n",
       "\n",
       "// Listen for the clearing of the current output cell\n",
       "var outputEl = gd.closest('.output');\n",
       "if (outputEl) {{\n",
       "    x.observe(outputEl, {childList: true});\n",
       "}}\n",
       "\n",
       "                        })                };                });            </script>        </div>"
      ]
     },
     "metadata": {},
     "output_type": "display_data"
    }
   ],
   "source": [
    "import plotly.graph_objects as go\n",
    "fig = go.Figure(data=[go.Bar(x=highest_sales.index,y=highest_sales.values, marker_color=highest_sales.values,\n",
    "    marker=dict(colorscale='Reds'))])\n",
    "fig.update_layout(\n",
    "    title='Top 10 Magasins par montants des ventes',\n",
    "    xaxis_title='Nom du Magasin',\n",
    "    yaxis_title='Total Des ventes',\n",
    ")"
   ]
  },
  {
   "cell_type": "markdown",
   "id": "2f8491ac",
   "metadata": {
    "papermill": {
     "duration": 0.02721,
     "end_time": "2023-05-22T17:58:36.892840",
     "exception": false,
     "start_time": "2023-05-22T17:58:36.865630",
     "status": "completed"
    },
    "tags": []
   },
   "source": [
    "#### On voit clairement que Le Store S0085 domine aux terme des ventes sur toute la période avec un montant de 432,608.517 $"
   ]
  },
  {
   "cell_type": "code",
   "execution_count": 23,
   "id": "b47277f9",
   "metadata": {
    "execution": {
     "iopub.execute_input": "2023-05-22T17:58:36.949032Z",
     "iopub.status.busy": "2023-05-22T17:58:36.948641Z",
     "iopub.status.idle": "2023-05-22T17:58:39.143576Z",
     "shell.execute_reply": "2023-05-22T17:58:39.142013Z"
    },
    "papermill": {
     "duration": 2.22554,
     "end_time": "2023-05-22T17:58:39.146151",
     "exception": false,
     "start_time": "2023-05-22T17:58:36.920611",
     "status": "completed"
    },
    "tags": []
   },
   "outputs": [
    {
     "name": "stdout",
     "output_type": "stream",
     "text": [
      "product_id\n",
      "P0103    881634.0\n",
      "P0438    565348.0\n",
      "P0364    277763.0\n",
      "P0051    236744.0\n",
      "P0388    215487.0\n",
      "P0131    214924.0\n",
      "P0569    192400.0\n",
      "P0333    180100.0\n",
      "P0590    163834.0\n",
      "P0500    161805.0\n",
      "Name: sales, dtype: float64\n"
     ]
    }
   ],
   "source": [
    "popular_products = EDA_Data.groupby('product_id')['sales'].sum().sort_values(ascending=False).head(10)\n",
    "print(popular_products)"
   ]
  },
  {
   "cell_type": "code",
   "execution_count": 24,
   "id": "d5cbe501",
   "metadata": {
    "execution": {
     "iopub.execute_input": "2023-05-22T17:58:39.205376Z",
     "iopub.status.busy": "2023-05-22T17:58:39.204320Z",
     "iopub.status.idle": "2023-05-22T17:58:39.223561Z",
     "shell.execute_reply": "2023-05-22T17:58:39.222054Z"
    },
    "papermill": {
     "duration": 0.052403,
     "end_time": "2023-05-22T17:58:39.226251",
     "exception": false,
     "start_time": "2023-05-22T17:58:39.173848",
     "status": "completed"
    },
    "tags": []
   },
   "outputs": [
    {
     "data": {
      "text/html": [
       "<div>                            <div id=\"ac7e58ed-d4e7-4fdd-86b1-fbd29a28dbbe\" class=\"plotly-graph-div\" style=\"height:525px; width:100%;\"></div>            <script type=\"text/javascript\">                require([\"plotly\"], function(Plotly) {                    window.PLOTLYENV=window.PLOTLYENV || {};                                    if (document.getElementById(\"ac7e58ed-d4e7-4fdd-86b1-fbd29a28dbbe\")) {                    Plotly.newPlot(                        \"ac7e58ed-d4e7-4fdd-86b1-fbd29a28dbbe\",                        [{\"marker\":{\"color\":[881634.0,565348.0,277763.0,236744.0,215487.0,214924.0,192400.0,180100.0,163834.0,161805.0],\"colorscale\":[[0.0,\"rgb(255,245,235)\"],[0.125,\"rgb(254,230,206)\"],[0.25,\"rgb(253,208,162)\"],[0.375,\"rgb(253,174,107)\"],[0.5,\"rgb(253,141,60)\"],[0.625,\"rgb(241,105,19)\"],[0.75,\"rgb(217,72,1)\"],[0.875,\"rgb(166,54,3)\"],[1.0,\"rgb(127,39,4)\"]]},\"x\":[\"P0103\",\"P0438\",\"P0364\",\"P0051\",\"P0388\",\"P0131\",\"P0569\",\"P0333\",\"P0590\",\"P0500\"],\"y\":[881634.0,565348.0,277763.0,236744.0,215487.0,214924.0,192400.0,180100.0,163834.0,161805.0],\"type\":\"bar\"}],                        {\"template\":{\"data\":{\"histogram2dcontour\":[{\"type\":\"histogram2dcontour\",\"colorbar\":{\"outlinewidth\":0,\"ticks\":\"\"},\"colorscale\":[[0.0,\"#0d0887\"],[0.1111111111111111,\"#46039f\"],[0.2222222222222222,\"#7201a8\"],[0.3333333333333333,\"#9c179e\"],[0.4444444444444444,\"#bd3786\"],[0.5555555555555556,\"#d8576b\"],[0.6666666666666666,\"#ed7953\"],[0.7777777777777778,\"#fb9f3a\"],[0.8888888888888888,\"#fdca26\"],[1.0,\"#f0f921\"]]}],\"choropleth\":[{\"type\":\"choropleth\",\"colorbar\":{\"outlinewidth\":0,\"ticks\":\"\"}}],\"histogram2d\":[{\"type\":\"histogram2d\",\"colorbar\":{\"outlinewidth\":0,\"ticks\":\"\"},\"colorscale\":[[0.0,\"#0d0887\"],[0.1111111111111111,\"#46039f\"],[0.2222222222222222,\"#7201a8\"],[0.3333333333333333,\"#9c179e\"],[0.4444444444444444,\"#bd3786\"],[0.5555555555555556,\"#d8576b\"],[0.6666666666666666,\"#ed7953\"],[0.7777777777777778,\"#fb9f3a\"],[0.8888888888888888,\"#fdca26\"],[1.0,\"#f0f921\"]]}],\"heatmap\":[{\"type\":\"heatmap\",\"colorbar\":{\"outlinewidth\":0,\"ticks\":\"\"},\"colorscale\":[[0.0,\"#0d0887\"],[0.1111111111111111,\"#46039f\"],[0.2222222222222222,\"#7201a8\"],[0.3333333333333333,\"#9c179e\"],[0.4444444444444444,\"#bd3786\"],[0.5555555555555556,\"#d8576b\"],[0.6666666666666666,\"#ed7953\"],[0.7777777777777778,\"#fb9f3a\"],[0.8888888888888888,\"#fdca26\"],[1.0,\"#f0f921\"]]}],\"heatmapgl\":[{\"type\":\"heatmapgl\",\"colorbar\":{\"outlinewidth\":0,\"ticks\":\"\"},\"colorscale\":[[0.0,\"#0d0887\"],[0.1111111111111111,\"#46039f\"],[0.2222222222222222,\"#7201a8\"],[0.3333333333333333,\"#9c179e\"],[0.4444444444444444,\"#bd3786\"],[0.5555555555555556,\"#d8576b\"],[0.6666666666666666,\"#ed7953\"],[0.7777777777777778,\"#fb9f3a\"],[0.8888888888888888,\"#fdca26\"],[1.0,\"#f0f921\"]]}],\"contourcarpet\":[{\"type\":\"contourcarpet\",\"colorbar\":{\"outlinewidth\":0,\"ticks\":\"\"}}],\"contour\":[{\"type\":\"contour\",\"colorbar\":{\"outlinewidth\":0,\"ticks\":\"\"},\"colorscale\":[[0.0,\"#0d0887\"],[0.1111111111111111,\"#46039f\"],[0.2222222222222222,\"#7201a8\"],[0.3333333333333333,\"#9c179e\"],[0.4444444444444444,\"#bd3786\"],[0.5555555555555556,\"#d8576b\"],[0.6666666666666666,\"#ed7953\"],[0.7777777777777778,\"#fb9f3a\"],[0.8888888888888888,\"#fdca26\"],[1.0,\"#f0f921\"]]}],\"surface\":[{\"type\":\"surface\",\"colorbar\":{\"outlinewidth\":0,\"ticks\":\"\"},\"colorscale\":[[0.0,\"#0d0887\"],[0.1111111111111111,\"#46039f\"],[0.2222222222222222,\"#7201a8\"],[0.3333333333333333,\"#9c179e\"],[0.4444444444444444,\"#bd3786\"],[0.5555555555555556,\"#d8576b\"],[0.6666666666666666,\"#ed7953\"],[0.7777777777777778,\"#fb9f3a\"],[0.8888888888888888,\"#fdca26\"],[1.0,\"#f0f921\"]]}],\"mesh3d\":[{\"type\":\"mesh3d\",\"colorbar\":{\"outlinewidth\":0,\"ticks\":\"\"}}],\"scatter\":[{\"fillpattern\":{\"fillmode\":\"overlay\",\"size\":10,\"solidity\":0.2},\"type\":\"scatter\"}],\"parcoords\":[{\"type\":\"parcoords\",\"line\":{\"colorbar\":{\"outlinewidth\":0,\"ticks\":\"\"}}}],\"scatterpolargl\":[{\"type\":\"scatterpolargl\",\"marker\":{\"colorbar\":{\"outlinewidth\":0,\"ticks\":\"\"}}}],\"bar\":[{\"error_x\":{\"color\":\"#2a3f5f\"},\"error_y\":{\"color\":\"#2a3f5f\"},\"marker\":{\"line\":{\"color\":\"#E5ECF6\",\"width\":0.5},\"pattern\":{\"fillmode\":\"overlay\",\"size\":10,\"solidity\":0.2}},\"type\":\"bar\"}],\"scattergeo\":[{\"type\":\"scattergeo\",\"marker\":{\"colorbar\":{\"outlinewidth\":0,\"ticks\":\"\"}}}],\"scatterpolar\":[{\"type\":\"scatterpolar\",\"marker\":{\"colorbar\":{\"outlinewidth\":0,\"ticks\":\"\"}}}],\"histogram\":[{\"marker\":{\"pattern\":{\"fillmode\":\"overlay\",\"size\":10,\"solidity\":0.2}},\"type\":\"histogram\"}],\"scattergl\":[{\"type\":\"scattergl\",\"marker\":{\"colorbar\":{\"outlinewidth\":0,\"ticks\":\"\"}}}],\"scatter3d\":[{\"type\":\"scatter3d\",\"line\":{\"colorbar\":{\"outlinewidth\":0,\"ticks\":\"\"}},\"marker\":{\"colorbar\":{\"outlinewidth\":0,\"ticks\":\"\"}}}],\"scattermapbox\":[{\"type\":\"scattermapbox\",\"marker\":{\"colorbar\":{\"outlinewidth\":0,\"ticks\":\"\"}}}],\"scatterternary\":[{\"type\":\"scatterternary\",\"marker\":{\"colorbar\":{\"outlinewidth\":0,\"ticks\":\"\"}}}],\"scattercarpet\":[{\"type\":\"scattercarpet\",\"marker\":{\"colorbar\":{\"outlinewidth\":0,\"ticks\":\"\"}}}],\"carpet\":[{\"aaxis\":{\"endlinecolor\":\"#2a3f5f\",\"gridcolor\":\"white\",\"linecolor\":\"white\",\"minorgridcolor\":\"white\",\"startlinecolor\":\"#2a3f5f\"},\"baxis\":{\"endlinecolor\":\"#2a3f5f\",\"gridcolor\":\"white\",\"linecolor\":\"white\",\"minorgridcolor\":\"white\",\"startlinecolor\":\"#2a3f5f\"},\"type\":\"carpet\"}],\"table\":[{\"cells\":{\"fill\":{\"color\":\"#EBF0F8\"},\"line\":{\"color\":\"white\"}},\"header\":{\"fill\":{\"color\":\"#C8D4E3\"},\"line\":{\"color\":\"white\"}},\"type\":\"table\"}],\"barpolar\":[{\"marker\":{\"line\":{\"color\":\"#E5ECF6\",\"width\":0.5},\"pattern\":{\"fillmode\":\"overlay\",\"size\":10,\"solidity\":0.2}},\"type\":\"barpolar\"}],\"pie\":[{\"automargin\":true,\"type\":\"pie\"}]},\"layout\":{\"autotypenumbers\":\"strict\",\"colorway\":[\"#636efa\",\"#EF553B\",\"#00cc96\",\"#ab63fa\",\"#FFA15A\",\"#19d3f3\",\"#FF6692\",\"#B6E880\",\"#FF97FF\",\"#FECB52\"],\"font\":{\"color\":\"#2a3f5f\"},\"hovermode\":\"closest\",\"hoverlabel\":{\"align\":\"left\"},\"paper_bgcolor\":\"white\",\"plot_bgcolor\":\"#E5ECF6\",\"polar\":{\"bgcolor\":\"#E5ECF6\",\"angularaxis\":{\"gridcolor\":\"white\",\"linecolor\":\"white\",\"ticks\":\"\"},\"radialaxis\":{\"gridcolor\":\"white\",\"linecolor\":\"white\",\"ticks\":\"\"}},\"ternary\":{\"bgcolor\":\"#E5ECF6\",\"aaxis\":{\"gridcolor\":\"white\",\"linecolor\":\"white\",\"ticks\":\"\"},\"baxis\":{\"gridcolor\":\"white\",\"linecolor\":\"white\",\"ticks\":\"\"},\"caxis\":{\"gridcolor\":\"white\",\"linecolor\":\"white\",\"ticks\":\"\"}},\"coloraxis\":{\"colorbar\":{\"outlinewidth\":0,\"ticks\":\"\"}},\"colorscale\":{\"sequential\":[[0.0,\"#0d0887\"],[0.1111111111111111,\"#46039f\"],[0.2222222222222222,\"#7201a8\"],[0.3333333333333333,\"#9c179e\"],[0.4444444444444444,\"#bd3786\"],[0.5555555555555556,\"#d8576b\"],[0.6666666666666666,\"#ed7953\"],[0.7777777777777778,\"#fb9f3a\"],[0.8888888888888888,\"#fdca26\"],[1.0,\"#f0f921\"]],\"sequentialminus\":[[0.0,\"#0d0887\"],[0.1111111111111111,\"#46039f\"],[0.2222222222222222,\"#7201a8\"],[0.3333333333333333,\"#9c179e\"],[0.4444444444444444,\"#bd3786\"],[0.5555555555555556,\"#d8576b\"],[0.6666666666666666,\"#ed7953\"],[0.7777777777777778,\"#fb9f3a\"],[0.8888888888888888,\"#fdca26\"],[1.0,\"#f0f921\"]],\"diverging\":[[0,\"#8e0152\"],[0.1,\"#c51b7d\"],[0.2,\"#de77ae\"],[0.3,\"#f1b6da\"],[0.4,\"#fde0ef\"],[0.5,\"#f7f7f7\"],[0.6,\"#e6f5d0\"],[0.7,\"#b8e186\"],[0.8,\"#7fbc41\"],[0.9,\"#4d9221\"],[1,\"#276419\"]]},\"xaxis\":{\"gridcolor\":\"white\",\"linecolor\":\"white\",\"ticks\":\"\",\"title\":{\"standoff\":15},\"zerolinecolor\":\"white\",\"automargin\":true,\"zerolinewidth\":2},\"yaxis\":{\"gridcolor\":\"white\",\"linecolor\":\"white\",\"ticks\":\"\",\"title\":{\"standoff\":15},\"zerolinecolor\":\"white\",\"automargin\":true,\"zerolinewidth\":2},\"scene\":{\"xaxis\":{\"backgroundcolor\":\"#E5ECF6\",\"gridcolor\":\"white\",\"linecolor\":\"white\",\"showbackground\":true,\"ticks\":\"\",\"zerolinecolor\":\"white\",\"gridwidth\":2},\"yaxis\":{\"backgroundcolor\":\"#E5ECF6\",\"gridcolor\":\"white\",\"linecolor\":\"white\",\"showbackground\":true,\"ticks\":\"\",\"zerolinecolor\":\"white\",\"gridwidth\":2},\"zaxis\":{\"backgroundcolor\":\"#E5ECF6\",\"gridcolor\":\"white\",\"linecolor\":\"white\",\"showbackground\":true,\"ticks\":\"\",\"zerolinecolor\":\"white\",\"gridwidth\":2}},\"shapedefaults\":{\"line\":{\"color\":\"#2a3f5f\"}},\"annotationdefaults\":{\"arrowcolor\":\"#2a3f5f\",\"arrowhead\":0,\"arrowwidth\":1},\"geo\":{\"bgcolor\":\"white\",\"landcolor\":\"#E5ECF6\",\"subunitcolor\":\"white\",\"showland\":true,\"showlakes\":true,\"lakecolor\":\"white\"},\"title\":{\"x\":0.05},\"mapbox\":{\"style\":\"light\"}}},\"title\":{\"text\":\"Top 10 Produits par montants des ventes\"},\"xaxis\":{\"title\":{\"text\":\"Nom du Produit\"}},\"yaxis\":{\"title\":{\"text\":\"Total Des ventes\"}}},                        {\"responsive\": true}                    ).then(function(){\n",
       "                            \n",
       "var gd = document.getElementById('ac7e58ed-d4e7-4fdd-86b1-fbd29a28dbbe');\n",
       "var x = new MutationObserver(function (mutations, observer) {{\n",
       "        var display = window.getComputedStyle(gd).display;\n",
       "        if (!display || display === 'none') {{\n",
       "            console.log([gd, 'removed!']);\n",
       "            Plotly.purge(gd);\n",
       "            observer.disconnect();\n",
       "        }}\n",
       "}});\n",
       "\n",
       "// Listen for the removal of the full notebook cells\n",
       "var notebookContainer = gd.closest('#notebook-container');\n",
       "if (notebookContainer) {{\n",
       "    x.observe(notebookContainer, {childList: true});\n",
       "}}\n",
       "\n",
       "// Listen for the clearing of the current output cell\n",
       "var outputEl = gd.closest('.output');\n",
       "if (outputEl) {{\n",
       "    x.observe(outputEl, {childList: true});\n",
       "}}\n",
       "\n",
       "                        })                };                });            </script>        </div>"
      ]
     },
     "metadata": {},
     "output_type": "display_data"
    }
   ],
   "source": [
    "import plotly.graph_objects as go\n",
    "fig = go.Figure(data=[go.Bar(x=popular_products.index,y=popular_products.values, marker_color=popular_products.values,\n",
    "    marker=dict(colorscale='Oranges'))])\n",
    "fig.update_layout(\n",
    "    title='Top 10 Produits par montants des ventes',\n",
    "    xaxis_title='Nom du Produit',\n",
    "    yaxis_title='Total Des ventes',\n",
    ")"
   ]
  },
  {
   "cell_type": "markdown",
   "id": "f3b0dd42",
   "metadata": {
    "papermill": {
     "duration": 0.026469,
     "end_time": "2023-05-22T17:58:39.279888",
     "exception": false,
     "start_time": "2023-05-22T17:58:39.253419",
     "status": "completed"
    },
    "tags": []
   },
   "source": [
    "#### On voit clairement que Le Produit P0103 domine aux terme des ventes sur toute la période avec un valeur de 881,634 $"
   ]
  },
  {
   "cell_type": "markdown",
   "id": "84c58505",
   "metadata": {
    "papermill": {
     "duration": 0.026557,
     "end_time": "2023-05-22T17:58:39.333422",
     "exception": false,
     "start_time": "2023-05-22T17:58:39.306865",
     "status": "completed"
    },
    "tags": []
   },
   "source": [
    "## 3.Data Modeling"
   ]
  },
  {
   "cell_type": "markdown",
   "id": "b25d9e91",
   "metadata": {
    "papermill": {
     "duration": 0.026781,
     "end_time": "2023-05-22T17:58:39.387423",
     "exception": false,
     "start_time": "2023-05-22T17:58:39.360642",
     "status": "completed"
    },
    "tags": []
   },
   "source": [
    "### Data preparation"
   ]
  },
  {
   "cell_type": "markdown",
   "id": "72f46f8d",
   "metadata": {
    "papermill": {
     "duration": 0.026995,
     "end_time": "2023-05-22T17:58:39.441799",
     "exception": false,
     "start_time": "2023-05-22T17:58:39.414804",
     "status": "completed"
    },
    "tags": []
   },
   "source": [
    "### Puisque notre jeux de données continet plusieurs transactions qui peuvent avoir un 0 dans l'un de ses facteurs , c'est mieux d'utiliser une estimation par rapport aux moyenne mensuelle de chaque produit et filtrer les données pour avoir seulement les produits qui ont des données dans \n",
    "#### => Agréger les données en format mensuelle"
   ]
  },
  {
   "cell_type": "code",
   "execution_count": 25,
   "id": "a5910a75",
   "metadata": {
    "execution": {
     "iopub.execute_input": "2023-05-22T17:58:39.498537Z",
     "iopub.status.busy": "2023-05-22T17:58:39.497773Z",
     "iopub.status.idle": "2023-05-22T17:58:41.444762Z",
     "shell.execute_reply": "2023-05-22T17:58:41.443606Z"
    },
    "papermill": {
     "duration": 1.978756,
     "end_time": "2023-05-22T17:58:41.447611",
     "exception": false,
     "start_time": "2023-05-22T17:58:39.468855",
     "status": "completed"
    },
    "tags": []
   },
   "outputs": [],
   "source": [
    "monthly_sales_data = sales[(sales['stock'] != 0) & (sales['sales'] != 0) & (sales['revenue'] != 0)]"
   ]
  },
  {
   "cell_type": "code",
   "execution_count": 26,
   "id": "0ad63f77",
   "metadata": {
    "execution": {
     "iopub.execute_input": "2023-05-22T17:58:41.503359Z",
     "iopub.status.busy": "2023-05-22T17:58:41.502920Z",
     "iopub.status.idle": "2023-05-22T17:58:42.272753Z",
     "shell.execute_reply": "2023-05-22T17:58:42.271589Z"
    },
    "papermill": {
     "duration": 0.801196,
     "end_time": "2023-05-22T17:58:42.275776",
     "exception": false,
     "start_time": "2023-05-22T17:58:41.474580",
     "status": "completed"
    },
    "tags": []
   },
   "outputs": [],
   "source": [
    "monthly_sales_data = monthly_sales_data.groupby(['product_id', pd.Grouper(key='date', freq='M')]).agg({'sales': 'sum', 'revenue': 'sum','stock':\"sum\"}).reset_index()"
   ]
  },
  {
   "cell_type": "code",
   "execution_count": 27,
   "id": "55d5d56d",
   "metadata": {
    "execution": {
     "iopub.execute_input": "2023-05-22T17:58:42.332027Z",
     "iopub.status.busy": "2023-05-22T17:58:42.331635Z",
     "iopub.status.idle": "2023-05-22T17:58:42.340150Z",
     "shell.execute_reply": "2023-05-22T17:58:42.339339Z"
    },
    "papermill": {
     "duration": 0.038965,
     "end_time": "2023-05-22T17:58:42.342340",
     "exception": false,
     "start_time": "2023-05-22T17:58:42.303375",
     "status": "completed"
    },
    "tags": []
   },
   "outputs": [],
   "source": [
    "monthly_sales_data = monthly_sales_data[(monthly_sales_data['stock'] != 0) & (monthly_sales_data['sales'] != 0) & (monthly_sales_data['revenue'] != 0)]"
   ]
  },
  {
   "cell_type": "code",
   "execution_count": 28,
   "id": "be1eac0c",
   "metadata": {
    "execution": {
     "iopub.execute_input": "2023-05-22T17:58:42.397823Z",
     "iopub.status.busy": "2023-05-22T17:58:42.397397Z",
     "iopub.status.idle": "2023-05-22T17:58:42.403284Z",
     "shell.execute_reply": "2023-05-22T17:58:42.402123Z"
    },
    "papermill": {
     "duration": 0.036457,
     "end_time": "2023-05-22T17:58:42.405725",
     "exception": false,
     "start_time": "2023-05-22T17:58:42.369268",
     "status": "completed"
    },
    "tags": []
   },
   "outputs": [],
   "source": [
    "monthly_sales_data.set_index(\"date\",inplace=True)"
   ]
  },
  {
   "cell_type": "code",
   "execution_count": 29,
   "id": "cf412349",
   "metadata": {
    "execution": {
     "iopub.execute_input": "2023-05-22T17:58:42.461513Z",
     "iopub.status.busy": "2023-05-22T17:58:42.460736Z",
     "iopub.status.idle": "2023-05-22T17:58:42.531657Z",
     "shell.execute_reply": "2023-05-22T17:58:42.530559Z"
    },
    "papermill": {
     "duration": 0.101818,
     "end_time": "2023-05-22T17:58:42.534507",
     "exception": false,
     "start_time": "2023-05-22T17:58:42.432689",
     "status": "completed"
    },
    "tags": []
   },
   "outputs": [],
   "source": [
    "filtered_data = monthly_sales_data.groupby('product_id').filter(lambda x: x.index.min().year == 2017 and x.index.max().year == 2019)\n"
   ]
  },
  {
   "cell_type": "markdown",
   "id": "737bcf69",
   "metadata": {
    "papermill": {
     "duration": 0.026527,
     "end_time": "2023-05-22T17:58:42.588103",
     "exception": false,
     "start_time": "2023-05-22T17:58:42.561576",
     "status": "completed"
    },
    "tags": []
   },
   "source": [
    "## Exemple : Etude sur le produit P0001"
   ]
  },
  {
   "cell_type": "code",
   "execution_count": 30,
   "id": "0b1d14c0",
   "metadata": {
    "execution": {
     "iopub.execute_input": "2023-05-22T17:58:42.643771Z",
     "iopub.status.busy": "2023-05-22T17:58:42.643373Z",
     "iopub.status.idle": "2023-05-22T17:58:42.652414Z",
     "shell.execute_reply": "2023-05-22T17:58:42.651559Z"
    },
    "papermill": {
     "duration": 0.039539,
     "end_time": "2023-05-22T17:58:42.654525",
     "exception": false,
     "start_time": "2023-05-22T17:58:42.614986",
     "status": "completed"
    },
    "tags": []
   },
   "outputs": [],
   "source": [
    "example_data = filtered_data[filtered_data['product_id'] == \"P0001\"]"
   ]
  },
  {
   "cell_type": "code",
   "execution_count": 31,
   "id": "f84887d5",
   "metadata": {
    "execution": {
     "iopub.execute_input": "2023-05-22T17:58:42.711742Z",
     "iopub.status.busy": "2023-05-22T17:58:42.710674Z",
     "iopub.status.idle": "2023-05-22T17:58:42.719779Z",
     "shell.execute_reply": "2023-05-22T17:58:42.718497Z"
    },
    "papermill": {
     "duration": 0.040834,
     "end_time": "2023-05-22T17:58:42.722422",
     "exception": false,
     "start_time": "2023-05-22T17:58:42.681588",
     "status": "completed"
    },
    "tags": []
   },
   "outputs": [],
   "source": [
    "example_data = example_data.drop([\"product_id\"],axis=1)\n",
    "example_data = example_data[(example_data['stock'] != 0) & (example_data['sales'] != 0) & (example_data['revenue'] != 0)]"
   ]
  },
  {
   "cell_type": "markdown",
   "id": "6d976a9f",
   "metadata": {
    "papermill": {
     "duration": 0.028893,
     "end_time": "2023-05-22T17:58:42.779724",
     "exception": false,
     "start_time": "2023-05-22T17:58:42.750831",
     "status": "completed"
    },
    "tags": []
   },
   "source": [
    "### Visualisation de croissance des ventes de produit : Exp Produit P0001"
   ]
  },
  {
   "cell_type": "code",
   "execution_count": 32,
   "id": "deee8e0a",
   "metadata": {
    "execution": {
     "iopub.execute_input": "2023-05-22T17:58:42.843623Z",
     "iopub.status.busy": "2023-05-22T17:58:42.843203Z",
     "iopub.status.idle": "2023-05-22T17:58:42.888672Z",
     "shell.execute_reply": "2023-05-22T17:58:42.887511Z"
    },
    "papermill": {
     "duration": 0.081496,
     "end_time": "2023-05-22T17:58:42.891534",
     "exception": false,
     "start_time": "2023-05-22T17:58:42.810038",
     "status": "completed"
    },
    "tags": []
   },
   "outputs": [
    {
     "data": {
      "text/html": [
       "<div>                            <div id=\"c31e29e6-d93b-4509-b9bd-1e2535ae6e7a\" class=\"plotly-graph-div\" style=\"height:525px; width:100%;\"></div>            <script type=\"text/javascript\">                require([\"plotly\"], function(Plotly) {                    window.PLOTLYENV=window.PLOTLYENV || {};                                    if (document.getElementById(\"c31e29e6-d93b-4509-b9bd-1e2535ae6e7a\")) {                    Plotly.newPlot(                        \"c31e29e6-d93b-4509-b9bd-1e2535ae6e7a\",                        [{\"mode\":\"lines\",\"name\":\"Product P0001\",\"x\":[\"2017-01-31T00:00:00\",\"2017-02-28T00:00:00\",\"2017-03-31T00:00:00\",\"2017-04-30T00:00:00\",\"2017-05-31T00:00:00\",\"2017-06-30T00:00:00\",\"2017-07-31T00:00:00\",\"2017-09-30T00:00:00\",\"2017-10-31T00:00:00\",\"2017-11-30T00:00:00\",\"2017-12-31T00:00:00\",\"2018-01-31T00:00:00\",\"2018-02-28T00:00:00\",\"2018-03-31T00:00:00\",\"2018-04-30T00:00:00\",\"2018-05-31T00:00:00\",\"2018-06-30T00:00:00\",\"2018-07-31T00:00:00\",\"2018-08-31T00:00:00\",\"2018-09-30T00:00:00\",\"2018-10-31T00:00:00\",\"2018-11-30T00:00:00\",\"2018-12-31T00:00:00\",\"2019-01-31T00:00:00\",\"2019-02-28T00:00:00\",\"2019-03-31T00:00:00\",\"2019-04-30T00:00:00\",\"2019-05-31T00:00:00\",\"2019-06-30T00:00:00\",\"2019-07-31T00:00:00\",\"2019-08-31T00:00:00\",\"2019-09-30T00:00:00\",\"2019-10-31T00:00:00\"],\"y\":[58.0,23.0,23.0,13.0,6.0,4.0,9.0,2.0,12.0,114.0,190.0,196.0,230.0,263.0,210.0,120.0,91.0,101.0,132.0,121.0,103.0,71.0,50.0,50.0,45.0,46.0,41.0,64.0,70.0,82.0,89.0,75.0,76.0],\"type\":\"scatter\"}],                        {\"template\":{\"data\":{\"histogram2dcontour\":[{\"type\":\"histogram2dcontour\",\"colorbar\":{\"outlinewidth\":0,\"ticks\":\"\"},\"colorscale\":[[0.0,\"#0d0887\"],[0.1111111111111111,\"#46039f\"],[0.2222222222222222,\"#7201a8\"],[0.3333333333333333,\"#9c179e\"],[0.4444444444444444,\"#bd3786\"],[0.5555555555555556,\"#d8576b\"],[0.6666666666666666,\"#ed7953\"],[0.7777777777777778,\"#fb9f3a\"],[0.8888888888888888,\"#fdca26\"],[1.0,\"#f0f921\"]]}],\"choropleth\":[{\"type\":\"choropleth\",\"colorbar\":{\"outlinewidth\":0,\"ticks\":\"\"}}],\"histogram2d\":[{\"type\":\"histogram2d\",\"colorbar\":{\"outlinewidth\":0,\"ticks\":\"\"},\"colorscale\":[[0.0,\"#0d0887\"],[0.1111111111111111,\"#46039f\"],[0.2222222222222222,\"#7201a8\"],[0.3333333333333333,\"#9c179e\"],[0.4444444444444444,\"#bd3786\"],[0.5555555555555556,\"#d8576b\"],[0.6666666666666666,\"#ed7953\"],[0.7777777777777778,\"#fb9f3a\"],[0.8888888888888888,\"#fdca26\"],[1.0,\"#f0f921\"]]}],\"heatmap\":[{\"type\":\"heatmap\",\"colorbar\":{\"outlinewidth\":0,\"ticks\":\"\"},\"colorscale\":[[0.0,\"#0d0887\"],[0.1111111111111111,\"#46039f\"],[0.2222222222222222,\"#7201a8\"],[0.3333333333333333,\"#9c179e\"],[0.4444444444444444,\"#bd3786\"],[0.5555555555555556,\"#d8576b\"],[0.6666666666666666,\"#ed7953\"],[0.7777777777777778,\"#fb9f3a\"],[0.8888888888888888,\"#fdca26\"],[1.0,\"#f0f921\"]]}],\"heatmapgl\":[{\"type\":\"heatmapgl\",\"colorbar\":{\"outlinewidth\":0,\"ticks\":\"\"},\"colorscale\":[[0.0,\"#0d0887\"],[0.1111111111111111,\"#46039f\"],[0.2222222222222222,\"#7201a8\"],[0.3333333333333333,\"#9c179e\"],[0.4444444444444444,\"#bd3786\"],[0.5555555555555556,\"#d8576b\"],[0.6666666666666666,\"#ed7953\"],[0.7777777777777778,\"#fb9f3a\"],[0.8888888888888888,\"#fdca26\"],[1.0,\"#f0f921\"]]}],\"contourcarpet\":[{\"type\":\"contourcarpet\",\"colorbar\":{\"outlinewidth\":0,\"ticks\":\"\"}}],\"contour\":[{\"type\":\"contour\",\"colorbar\":{\"outlinewidth\":0,\"ticks\":\"\"},\"colorscale\":[[0.0,\"#0d0887\"],[0.1111111111111111,\"#46039f\"],[0.2222222222222222,\"#7201a8\"],[0.3333333333333333,\"#9c179e\"],[0.4444444444444444,\"#bd3786\"],[0.5555555555555556,\"#d8576b\"],[0.6666666666666666,\"#ed7953\"],[0.7777777777777778,\"#fb9f3a\"],[0.8888888888888888,\"#fdca26\"],[1.0,\"#f0f921\"]]}],\"surface\":[{\"type\":\"surface\",\"colorbar\":{\"outlinewidth\":0,\"ticks\":\"\"},\"colorscale\":[[0.0,\"#0d0887\"],[0.1111111111111111,\"#46039f\"],[0.2222222222222222,\"#7201a8\"],[0.3333333333333333,\"#9c179e\"],[0.4444444444444444,\"#bd3786\"],[0.5555555555555556,\"#d8576b\"],[0.6666666666666666,\"#ed7953\"],[0.7777777777777778,\"#fb9f3a\"],[0.8888888888888888,\"#fdca26\"],[1.0,\"#f0f921\"]]}],\"mesh3d\":[{\"type\":\"mesh3d\",\"colorbar\":{\"outlinewidth\":0,\"ticks\":\"\"}}],\"scatter\":[{\"fillpattern\":{\"fillmode\":\"overlay\",\"size\":10,\"solidity\":0.2},\"type\":\"scatter\"}],\"parcoords\":[{\"type\":\"parcoords\",\"line\":{\"colorbar\":{\"outlinewidth\":0,\"ticks\":\"\"}}}],\"scatterpolargl\":[{\"type\":\"scatterpolargl\",\"marker\":{\"colorbar\":{\"outlinewidth\":0,\"ticks\":\"\"}}}],\"bar\":[{\"error_x\":{\"color\":\"#2a3f5f\"},\"error_y\":{\"color\":\"#2a3f5f\"},\"marker\":{\"line\":{\"color\":\"#E5ECF6\",\"width\":0.5},\"pattern\":{\"fillmode\":\"overlay\",\"size\":10,\"solidity\":0.2}},\"type\":\"bar\"}],\"scattergeo\":[{\"type\":\"scattergeo\",\"marker\":{\"colorbar\":{\"outlinewidth\":0,\"ticks\":\"\"}}}],\"scatterpolar\":[{\"type\":\"scatterpolar\",\"marker\":{\"colorbar\":{\"outlinewidth\":0,\"ticks\":\"\"}}}],\"histogram\":[{\"marker\":{\"pattern\":{\"fillmode\":\"overlay\",\"size\":10,\"solidity\":0.2}},\"type\":\"histogram\"}],\"scattergl\":[{\"type\":\"scattergl\",\"marker\":{\"colorbar\":{\"outlinewidth\":0,\"ticks\":\"\"}}}],\"scatter3d\":[{\"type\":\"scatter3d\",\"line\":{\"colorbar\":{\"outlinewidth\":0,\"ticks\":\"\"}},\"marker\":{\"colorbar\":{\"outlinewidth\":0,\"ticks\":\"\"}}}],\"scattermapbox\":[{\"type\":\"scattermapbox\",\"marker\":{\"colorbar\":{\"outlinewidth\":0,\"ticks\":\"\"}}}],\"scatterternary\":[{\"type\":\"scatterternary\",\"marker\":{\"colorbar\":{\"outlinewidth\":0,\"ticks\":\"\"}}}],\"scattercarpet\":[{\"type\":\"scattercarpet\",\"marker\":{\"colorbar\":{\"outlinewidth\":0,\"ticks\":\"\"}}}],\"carpet\":[{\"aaxis\":{\"endlinecolor\":\"#2a3f5f\",\"gridcolor\":\"white\",\"linecolor\":\"white\",\"minorgridcolor\":\"white\",\"startlinecolor\":\"#2a3f5f\"},\"baxis\":{\"endlinecolor\":\"#2a3f5f\",\"gridcolor\":\"white\",\"linecolor\":\"white\",\"minorgridcolor\":\"white\",\"startlinecolor\":\"#2a3f5f\"},\"type\":\"carpet\"}],\"table\":[{\"cells\":{\"fill\":{\"color\":\"#EBF0F8\"},\"line\":{\"color\":\"white\"}},\"header\":{\"fill\":{\"color\":\"#C8D4E3\"},\"line\":{\"color\":\"white\"}},\"type\":\"table\"}],\"barpolar\":[{\"marker\":{\"line\":{\"color\":\"#E5ECF6\",\"width\":0.5},\"pattern\":{\"fillmode\":\"overlay\",\"size\":10,\"solidity\":0.2}},\"type\":\"barpolar\"}],\"pie\":[{\"automargin\":true,\"type\":\"pie\"}]},\"layout\":{\"autotypenumbers\":\"strict\",\"colorway\":[\"#636efa\",\"#EF553B\",\"#00cc96\",\"#ab63fa\",\"#FFA15A\",\"#19d3f3\",\"#FF6692\",\"#B6E880\",\"#FF97FF\",\"#FECB52\"],\"font\":{\"color\":\"#2a3f5f\"},\"hovermode\":\"closest\",\"hoverlabel\":{\"align\":\"left\"},\"paper_bgcolor\":\"white\",\"plot_bgcolor\":\"#E5ECF6\",\"polar\":{\"bgcolor\":\"#E5ECF6\",\"angularaxis\":{\"gridcolor\":\"white\",\"linecolor\":\"white\",\"ticks\":\"\"},\"radialaxis\":{\"gridcolor\":\"white\",\"linecolor\":\"white\",\"ticks\":\"\"}},\"ternary\":{\"bgcolor\":\"#E5ECF6\",\"aaxis\":{\"gridcolor\":\"white\",\"linecolor\":\"white\",\"ticks\":\"\"},\"baxis\":{\"gridcolor\":\"white\",\"linecolor\":\"white\",\"ticks\":\"\"},\"caxis\":{\"gridcolor\":\"white\",\"linecolor\":\"white\",\"ticks\":\"\"}},\"coloraxis\":{\"colorbar\":{\"outlinewidth\":0,\"ticks\":\"\"}},\"colorscale\":{\"sequential\":[[0.0,\"#0d0887\"],[0.1111111111111111,\"#46039f\"],[0.2222222222222222,\"#7201a8\"],[0.3333333333333333,\"#9c179e\"],[0.4444444444444444,\"#bd3786\"],[0.5555555555555556,\"#d8576b\"],[0.6666666666666666,\"#ed7953\"],[0.7777777777777778,\"#fb9f3a\"],[0.8888888888888888,\"#fdca26\"],[1.0,\"#f0f921\"]],\"sequentialminus\":[[0.0,\"#0d0887\"],[0.1111111111111111,\"#46039f\"],[0.2222222222222222,\"#7201a8\"],[0.3333333333333333,\"#9c179e\"],[0.4444444444444444,\"#bd3786\"],[0.5555555555555556,\"#d8576b\"],[0.6666666666666666,\"#ed7953\"],[0.7777777777777778,\"#fb9f3a\"],[0.8888888888888888,\"#fdca26\"],[1.0,\"#f0f921\"]],\"diverging\":[[0,\"#8e0152\"],[0.1,\"#c51b7d\"],[0.2,\"#de77ae\"],[0.3,\"#f1b6da\"],[0.4,\"#fde0ef\"],[0.5,\"#f7f7f7\"],[0.6,\"#e6f5d0\"],[0.7,\"#b8e186\"],[0.8,\"#7fbc41\"],[0.9,\"#4d9221\"],[1,\"#276419\"]]},\"xaxis\":{\"gridcolor\":\"white\",\"linecolor\":\"white\",\"ticks\":\"\",\"title\":{\"standoff\":15},\"zerolinecolor\":\"white\",\"automargin\":true,\"zerolinewidth\":2},\"yaxis\":{\"gridcolor\":\"white\",\"linecolor\":\"white\",\"ticks\":\"\",\"title\":{\"standoff\":15},\"zerolinecolor\":\"white\",\"automargin\":true,\"zerolinewidth\":2},\"scene\":{\"xaxis\":{\"backgroundcolor\":\"#E5ECF6\",\"gridcolor\":\"white\",\"linecolor\":\"white\",\"showbackground\":true,\"ticks\":\"\",\"zerolinecolor\":\"white\",\"gridwidth\":2},\"yaxis\":{\"backgroundcolor\":\"#E5ECF6\",\"gridcolor\":\"white\",\"linecolor\":\"white\",\"showbackground\":true,\"ticks\":\"\",\"zerolinecolor\":\"white\",\"gridwidth\":2},\"zaxis\":{\"backgroundcolor\":\"#E5ECF6\",\"gridcolor\":\"white\",\"linecolor\":\"white\",\"showbackground\":true,\"ticks\":\"\",\"zerolinecolor\":\"white\",\"gridwidth\":2}},\"shapedefaults\":{\"line\":{\"color\":\"#2a3f5f\"}},\"annotationdefaults\":{\"arrowcolor\":\"#2a3f5f\",\"arrowhead\":0,\"arrowwidth\":1},\"geo\":{\"bgcolor\":\"white\",\"landcolor\":\"#E5ECF6\",\"subunitcolor\":\"white\",\"showland\":true,\"showlakes\":true,\"lakecolor\":\"white\"},\"title\":{\"x\":0.05},\"mapbox\":{\"style\":\"light\"}}},\"title\":{\"text\":\"Sales Growth of Product P0001\"},\"xaxis\":{\"title\":{\"text\":\"Date\"}},\"yaxis\":{\"title\":{\"text\":\"Sales\"}}},                        {\"responsive\": true}                    ).then(function(){\n",
       "                            \n",
       "var gd = document.getElementById('c31e29e6-d93b-4509-b9bd-1e2535ae6e7a');\n",
       "var x = new MutationObserver(function (mutations, observer) {{\n",
       "        var display = window.getComputedStyle(gd).display;\n",
       "        if (!display || display === 'none') {{\n",
       "            console.log([gd, 'removed!']);\n",
       "            Plotly.purge(gd);\n",
       "            observer.disconnect();\n",
       "        }}\n",
       "}});\n",
       "\n",
       "// Listen for the removal of the full notebook cells\n",
       "var notebookContainer = gd.closest('#notebook-container');\n",
       "if (notebookContainer) {{\n",
       "    x.observe(notebookContainer, {childList: true});\n",
       "}}\n",
       "\n",
       "// Listen for the clearing of the current output cell\n",
       "var outputEl = gd.closest('.output');\n",
       "if (outputEl) {{\n",
       "    x.observe(outputEl, {childList: true});\n",
       "}}\n",
       "\n",
       "                        })                };                });            </script>        </div>"
      ]
     },
     "metadata": {},
     "output_type": "display_data"
    }
   ],
   "source": [
    "fig = go.Figure(data=go.Scatter(\n",
    "    x=example_data.index,  \n",
    "    y=example_data['sales'],  \n",
    "    mode='lines', \n",
    "    name='Product P0001'\n",
    "))\n",
    "\n",
    "fig.update_layout(\n",
    "    title='Sales Growth of Product P0001',\n",
    "    xaxis_title='Date',\n",
    "    yaxis_title='Sales'\n",
    ")\n"
   ]
  },
  {
   "cell_type": "code",
   "execution_count": 33,
   "id": "59512562",
   "metadata": {
    "execution": {
     "iopub.execute_input": "2023-05-22T17:58:42.949285Z",
     "iopub.status.busy": "2023-05-22T17:58:42.948867Z",
     "iopub.status.idle": "2023-05-22T17:58:42.961565Z",
     "shell.execute_reply": "2023-05-22T17:58:42.960596Z"
    },
    "papermill": {
     "duration": 0.044314,
     "end_time": "2023-05-22T17:58:42.964148",
     "exception": false,
     "start_time": "2023-05-22T17:58:42.919834",
     "status": "completed"
    },
    "tags": []
   },
   "outputs": [
    {
     "data": {
      "text/html": [
       "<div>\n",
       "<style scoped>\n",
       "    .dataframe tbody tr th:only-of-type {\n",
       "        vertical-align: middle;\n",
       "    }\n",
       "\n",
       "    .dataframe tbody tr th {\n",
       "        vertical-align: top;\n",
       "    }\n",
       "\n",
       "    .dataframe thead th {\n",
       "        text-align: right;\n",
       "    }\n",
       "</style>\n",
       "<table border=\"1\" class=\"dataframe\">\n",
       "  <thead>\n",
       "    <tr style=\"text-align: right;\">\n",
       "      <th></th>\n",
       "      <th>sales</th>\n",
       "      <th>revenue</th>\n",
       "      <th>stock</th>\n",
       "    </tr>\n",
       "    <tr>\n",
       "      <th>date</th>\n",
       "      <th></th>\n",
       "      <th></th>\n",
       "      <th></th>\n",
       "    </tr>\n",
       "  </thead>\n",
       "  <tbody>\n",
       "    <tr>\n",
       "      <th>2017-01-31</th>\n",
       "      <td>58.0</td>\n",
       "      <td>313.25</td>\n",
       "      <td>297.0</td>\n",
       "    </tr>\n",
       "    <tr>\n",
       "      <th>2017-02-28</th>\n",
       "      <td>23.0</td>\n",
       "      <td>126.73</td>\n",
       "      <td>133.0</td>\n",
       "    </tr>\n",
       "    <tr>\n",
       "      <th>2017-03-31</th>\n",
       "      <td>23.0</td>\n",
       "      <td>126.73</td>\n",
       "      <td>62.0</td>\n",
       "    </tr>\n",
       "    <tr>\n",
       "      <th>2017-04-30</th>\n",
       "      <td>13.0</td>\n",
       "      <td>71.63</td>\n",
       "      <td>28.0</td>\n",
       "    </tr>\n",
       "    <tr>\n",
       "      <th>2017-05-31</th>\n",
       "      <td>6.0</td>\n",
       "      <td>34.11</td>\n",
       "      <td>28.0</td>\n",
       "    </tr>\n",
       "  </tbody>\n",
       "</table>\n",
       "</div>"
      ],
      "text/plain": [
       "            sales  revenue  stock\n",
       "date                             \n",
       "2017-01-31   58.0   313.25  297.0\n",
       "2017-02-28   23.0   126.73  133.0\n",
       "2017-03-31   23.0   126.73   62.0\n",
       "2017-04-30   13.0    71.63   28.0\n",
       "2017-05-31    6.0    34.11   28.0"
      ]
     },
     "execution_count": 33,
     "metadata": {},
     "output_type": "execute_result"
    }
   ],
   "source": [
    "example_data.head()"
   ]
  },
  {
   "cell_type": "code",
   "execution_count": 34,
   "id": "5cda66f3",
   "metadata": {
    "execution": {
     "iopub.execute_input": "2023-05-22T17:58:43.024390Z",
     "iopub.status.busy": "2023-05-22T17:58:43.023902Z",
     "iopub.status.idle": "2023-05-22T17:58:43.031012Z",
     "shell.execute_reply": "2023-05-22T17:58:43.029753Z"
    },
    "papermill": {
     "duration": 0.039773,
     "end_time": "2023-05-22T17:58:43.033794",
     "exception": false,
     "start_time": "2023-05-22T17:58:42.994021",
     "status": "completed"
    },
    "tags": []
   },
   "outputs": [],
   "source": [
    "split_date = '2019-01-01'\n",
    "train = example_data.loc[example_data.index <= split_date].copy()\n",
    "test = example_data.loc[example_data.index > split_date].copy()"
   ]
  },
  {
   "cell_type": "code",
   "execution_count": 35,
   "id": "1778e292",
   "metadata": {
    "execution": {
     "iopub.execute_input": "2023-05-22T17:58:43.094303Z",
     "iopub.status.busy": "2023-05-22T17:58:43.093862Z",
     "iopub.status.idle": "2023-05-22T17:58:43.101230Z",
     "shell.execute_reply": "2023-05-22T17:58:43.100046Z"
    },
    "papermill": {
     "duration": 0.040986,
     "end_time": "2023-05-22T17:58:43.103529",
     "exception": false,
     "start_time": "2023-05-22T17:58:43.062543",
     "status": "completed"
    },
    "tags": []
   },
   "outputs": [],
   "source": [
    "train = train.reset_index()\n",
    "test = test.reset_index()"
   ]
  },
  {
   "attachments": {
    "637081cd-c7c8-4746-8ab0-3ad4e1421514.png": {
     "image/png": "[encoded data removed]"
    }
   },
   "cell_type": "markdown",
   "id": "6ac80540",
   "metadata": {
    "papermill": {
     "duration": 0.027322,
     "end_time": "2023-05-22T17:58:43.158334",
     "exception": false,
     "start_time": "2023-05-22T17:58:43.131012",
     "status": "completed"
    },
    "tags": []
   },
   "source": [
    "# Méthode 1 : Prophet Algorithm \n",
    "![image.png](attachment:637081cd-c7c8-4746-8ab0-3ad4e1421514.png)"
   ]
  },
  {
   "cell_type": "markdown",
   "id": "0e7b2abe",
   "metadata": {
    "papermill": {
     "duration": 0.028597,
     "end_time": "2023-05-22T17:58:43.215334",
     "exception": false,
     "start_time": "2023-05-22T17:58:43.186737",
     "status": "completed"
    },
    "tags": []
   },
   "source": [
    "# Préparation des données aux format compatible avec prophet : Date = ds , Ventes = Y"
   ]
  },
  {
   "cell_type": "code",
   "execution_count": 36,
   "id": "67602391",
   "metadata": {
    "execution": {
     "iopub.execute_input": "2023-05-22T17:58:43.273794Z",
     "iopub.status.busy": "2023-05-22T17:58:43.273400Z",
     "iopub.status.idle": "2023-05-22T17:58:43.280757Z",
     "shell.execute_reply": "2023-05-22T17:58:43.279603Z"
    },
    "papermill": {
     "duration": 0.039253,
     "end_time": "2023-05-22T17:58:43.283248",
     "exception": false,
     "start_time": "2023-05-22T17:58:43.243995",
     "status": "completed"
    },
    "tags": []
   },
   "outputs": [],
   "source": [
    "train = train.rename(columns={\"date\": \"ds\",\"sales\":\"y\"})\n",
    "test = test.rename(columns={\"date\":\"ds\",\"sales\":\"y\"})"
   ]
  },
  {
   "cell_type": "markdown",
   "id": "e774bf45",
   "metadata": {
    "papermill": {
     "duration": 0.027121,
     "end_time": "2023-05-22T17:58:43.338538",
     "exception": false,
     "start_time": "2023-05-22T17:58:43.311417",
     "status": "completed"
    },
    "tags": []
   },
   "source": [
    "# Initialisation du L'object Prophet et l'ajout des regresseurs ( Features ) Stock et revenue"
   ]
  },
  {
   "cell_type": "code",
   "execution_count": 37,
   "id": "6b3f2184",
   "metadata": {
    "execution": {
     "iopub.execute_input": "2023-05-22T17:58:43.395339Z",
     "iopub.status.busy": "2023-05-22T17:58:43.394894Z",
     "iopub.status.idle": "2023-05-22T17:58:43.416137Z",
     "shell.execute_reply": "2023-05-22T17:58:43.414928Z"
    },
    "papermill": {
     "duration": 0.052372,
     "end_time": "2023-05-22T17:58:43.418669",
     "exception": false,
     "start_time": "2023-05-22T17:58:43.366297",
     "status": "completed"
    },
    "tags": []
   },
   "outputs": [
    {
     "data": {
      "text/html": [
       "<div>\n",
       "<style scoped>\n",
       "    .dataframe tbody tr th:only-of-type {\n",
       "        vertical-align: middle;\n",
       "    }\n",
       "\n",
       "    .dataframe tbody tr th {\n",
       "        vertical-align: top;\n",
       "    }\n",
       "\n",
       "    .dataframe thead th {\n",
       "        text-align: right;\n",
       "    }\n",
       "</style>\n",
       "<table border=\"1\" class=\"dataframe\">\n",
       "  <thead>\n",
       "    <tr style=\"text-align: right;\">\n",
       "      <th></th>\n",
       "      <th>ds</th>\n",
       "      <th>y</th>\n",
       "      <th>revenue</th>\n",
       "      <th>stock</th>\n",
       "    </tr>\n",
       "  </thead>\n",
       "  <tbody>\n",
       "    <tr>\n",
       "      <th>0</th>\n",
       "      <td>2017-01-31</td>\n",
       "      <td>58.0</td>\n",
       "      <td>313.25</td>\n",
       "      <td>297.0</td>\n",
       "    </tr>\n",
       "    <tr>\n",
       "      <th>1</th>\n",
       "      <td>2017-02-28</td>\n",
       "      <td>23.0</td>\n",
       "      <td>126.73</td>\n",
       "      <td>133.0</td>\n",
       "    </tr>\n",
       "    <tr>\n",
       "      <th>2</th>\n",
       "      <td>2017-03-31</td>\n",
       "      <td>23.0</td>\n",
       "      <td>126.73</td>\n",
       "      <td>62.0</td>\n",
       "    </tr>\n",
       "    <tr>\n",
       "      <th>3</th>\n",
       "      <td>2017-04-30</td>\n",
       "      <td>13.0</td>\n",
       "      <td>71.63</td>\n",
       "      <td>28.0</td>\n",
       "    </tr>\n",
       "    <tr>\n",
       "      <th>4</th>\n",
       "      <td>2017-05-31</td>\n",
       "      <td>6.0</td>\n",
       "      <td>34.11</td>\n",
       "      <td>28.0</td>\n",
       "    </tr>\n",
       "    <tr>\n",
       "      <th>5</th>\n",
       "      <td>2017-06-30</td>\n",
       "      <td>4.0</td>\n",
       "      <td>22.88</td>\n",
       "      <td>7.0</td>\n",
       "    </tr>\n",
       "    <tr>\n",
       "      <th>6</th>\n",
       "      <td>2017-07-31</td>\n",
       "      <td>9.0</td>\n",
       "      <td>48.62</td>\n",
       "      <td>38.0</td>\n",
       "    </tr>\n",
       "    <tr>\n",
       "      <th>7</th>\n",
       "      <td>2017-09-30</td>\n",
       "      <td>2.0</td>\n",
       "      <td>11.44</td>\n",
       "      <td>5.0</td>\n",
       "    </tr>\n",
       "    <tr>\n",
       "      <th>8</th>\n",
       "      <td>2017-10-31</td>\n",
       "      <td>12.0</td>\n",
       "      <td>78.84</td>\n",
       "      <td>82.0</td>\n",
       "    </tr>\n",
       "    <tr>\n",
       "      <th>9</th>\n",
       "      <td>2017-11-30</td>\n",
       "      <td>114.0</td>\n",
       "      <td>748.93</td>\n",
       "      <td>703.0</td>\n",
       "    </tr>\n",
       "    <tr>\n",
       "      <th>10</th>\n",
       "      <td>2017-12-31</td>\n",
       "      <td>190.0</td>\n",
       "      <td>1089.35</td>\n",
       "      <td>1220.0</td>\n",
       "    </tr>\n",
       "    <tr>\n",
       "      <th>11</th>\n",
       "      <td>2018-01-31</td>\n",
       "      <td>196.0</td>\n",
       "      <td>1121.12</td>\n",
       "      <td>1265.0</td>\n",
       "    </tr>\n",
       "    <tr>\n",
       "      <th>12</th>\n",
       "      <td>2018-02-28</td>\n",
       "      <td>230.0</td>\n",
       "      <td>1315.60</td>\n",
       "      <td>1358.0</td>\n",
       "    </tr>\n",
       "    <tr>\n",
       "      <th>13</th>\n",
       "      <td>2018-03-31</td>\n",
       "      <td>263.0</td>\n",
       "      <td>1504.36</td>\n",
       "      <td>1558.0</td>\n",
       "    </tr>\n",
       "    <tr>\n",
       "      <th>14</th>\n",
       "      <td>2018-04-30</td>\n",
       "      <td>210.0</td>\n",
       "      <td>1373.82</td>\n",
       "      <td>1396.0</td>\n",
       "    </tr>\n",
       "    <tr>\n",
       "      <th>15</th>\n",
       "      <td>2018-05-31</td>\n",
       "      <td>120.0</td>\n",
       "      <td>837.59</td>\n",
       "      <td>846.0</td>\n",
       "    </tr>\n",
       "    <tr>\n",
       "      <th>16</th>\n",
       "      <td>2018-06-30</td>\n",
       "      <td>91.0</td>\n",
       "      <td>675.18</td>\n",
       "      <td>680.0</td>\n",
       "    </tr>\n",
       "    <tr>\n",
       "      <th>17</th>\n",
       "      <td>2018-07-31</td>\n",
       "      <td>101.0</td>\n",
       "      <td>715.83</td>\n",
       "      <td>736.0</td>\n",
       "    </tr>\n",
       "    <tr>\n",
       "      <th>18</th>\n",
       "      <td>2018-08-31</td>\n",
       "      <td>132.0</td>\n",
       "      <td>942.01</td>\n",
       "      <td>680.0</td>\n",
       "    </tr>\n",
       "    <tr>\n",
       "      <th>19</th>\n",
       "      <td>2018-09-30</td>\n",
       "      <td>121.0</td>\n",
       "      <td>921.72</td>\n",
       "      <td>733.0</td>\n",
       "    </tr>\n",
       "    <tr>\n",
       "      <th>20</th>\n",
       "      <td>2018-10-31</td>\n",
       "      <td>103.0</td>\n",
       "      <td>883.88</td>\n",
       "      <td>601.0</td>\n",
       "    </tr>\n",
       "    <tr>\n",
       "      <th>21</th>\n",
       "      <td>2018-11-30</td>\n",
       "      <td>71.0</td>\n",
       "      <td>658.88</td>\n",
       "      <td>483.0</td>\n",
       "    </tr>\n",
       "    <tr>\n",
       "      <th>22</th>\n",
       "      <td>2018-12-31</td>\n",
       "      <td>50.0</td>\n",
       "      <td>464.00</td>\n",
       "      <td>426.0</td>\n",
       "    </tr>\n",
       "  </tbody>\n",
       "</table>\n",
       "</div>"
      ],
      "text/plain": [
       "           ds      y  revenue   stock\n",
       "0  2017-01-31   58.0   313.25   297.0\n",
       "1  2017-02-28   23.0   126.73   133.0\n",
       "2  2017-03-31   23.0   126.73    62.0\n",
       "3  2017-04-30   13.0    71.63    28.0\n",
       "4  2017-05-31    6.0    34.11    28.0\n",
       "5  2017-06-30    4.0    22.88     7.0\n",
       "6  2017-07-31    9.0    48.62    38.0\n",
       "7  2017-09-30    2.0    11.44     5.0\n",
       "8  2017-10-31   12.0    78.84    82.0\n",
       "9  2017-11-30  114.0   748.93   703.0\n",
       "10 2017-12-31  190.0  1089.35  1220.0\n",
       "11 2018-01-31  196.0  1121.12  1265.0\n",
       "12 2018-02-28  230.0  1315.60  1358.0\n",
       "13 2018-03-31  263.0  1504.36  1558.0\n",
       "14 2018-04-30  210.0  1373.82  1396.0\n",
       "15 2018-05-31  120.0   837.59   846.0\n",
       "16 2018-06-30   91.0   675.18   680.0\n",
       "17 2018-07-31  101.0   715.83   736.0\n",
       "18 2018-08-31  132.0   942.01   680.0\n",
       "19 2018-09-30  121.0   921.72   733.0\n",
       "20 2018-10-31  103.0   883.88   601.0\n",
       "21 2018-11-30   71.0   658.88   483.0\n",
       "22 2018-12-31   50.0   464.00   426.0"
      ]
     },
     "execution_count": 37,
     "metadata": {},
     "output_type": "execute_result"
    }
   ],
   "source": [
    "train"
   ]
  },
  {
   "cell_type": "code",
   "execution_count": 38,
   "id": "b2d90f35",
   "metadata": {
    "execution": {
     "iopub.execute_input": "2023-05-22T17:58:43.475926Z",
     "iopub.status.busy": "2023-05-22T17:58:43.475484Z",
     "iopub.status.idle": "2023-05-22T17:58:44.574473Z",
     "shell.execute_reply": "2023-05-22T17:58:44.573658Z"
    },
    "papermill": {
     "duration": 1.130368,
     "end_time": "2023-05-22T17:58:44.576766",
     "exception": false,
     "start_time": "2023-05-22T17:58:43.446398",
     "status": "completed"
    },
    "tags": []
   },
   "outputs": [
    {
     "name": "stderr",
     "output_type": "stream",
     "text": [
      "17:58:44 - cmdstanpy - INFO - Chain [1] start processing\n",
      "17:58:44 - cmdstanpy - INFO - Chain [1] done processing\n"
     ]
    }
   ],
   "source": [
    "from prophet import Prophet\n",
    "model = Prophet()\n",
    "model.add_regressor('stock')\n",
    "model.add_regressor('revenue')\n",
    "model.fit(train)\n",
    "future = model.make_future_dataframe(periods=10, freq='M')"
   ]
  },
  {
   "cell_type": "code",
   "execution_count": 39,
   "id": "6a652c04",
   "metadata": {
    "execution": {
     "iopub.execute_input": "2023-05-22T17:58:44.637140Z",
     "iopub.status.busy": "2023-05-22T17:58:44.636675Z",
     "iopub.status.idle": "2023-05-22T17:58:44.644706Z",
     "shell.execute_reply": "2023-05-22T17:58:44.643450Z"
    },
    "papermill": {
     "duration": 0.042031,
     "end_time": "2023-05-22T17:58:44.647428",
     "exception": false,
     "start_time": "2023-05-22T17:58:44.605397",
     "status": "completed"
    },
    "tags": []
   },
   "outputs": [],
   "source": [
    "future[\"stock\"] = train[\"stock\"]\n",
    "future[\"revenue\"] = train[\"revenue\"]"
   ]
  },
  {
   "cell_type": "markdown",
   "id": "48214d24",
   "metadata": {
    "papermill": {
     "duration": 0.029629,
     "end_time": "2023-05-22T17:58:44.706843",
     "exception": false,
     "start_time": "2023-05-22T17:58:44.677214",
     "status": "completed"
    },
    "tags": []
   },
   "source": [
    "# Ajout des données test aux repère de forecast pour préparer les prédictions"
   ]
  },
  {
   "cell_type": "code",
   "execution_count": 40,
   "id": "877a5e7d",
   "metadata": {
    "execution": {
     "iopub.execute_input": "2023-05-22T17:58:44.765076Z",
     "iopub.status.busy": "2023-05-22T17:58:44.764648Z",
     "iopub.status.idle": "2023-05-22T17:58:44.773765Z",
     "shell.execute_reply": "2023-05-22T17:58:44.772477Z"
    },
    "papermill": {
     "duration": 0.041101,
     "end_time": "2023-05-22T17:58:44.776017",
     "exception": false,
     "start_time": "2023-05-22T17:58:44.734916",
     "status": "completed"
    },
    "tags": []
   },
   "outputs": [],
   "source": [
    "merged_df = pd.merge(future, test, on='ds', how='left')"
   ]
  },
  {
   "cell_type": "code",
   "execution_count": 41,
   "id": "b1f7a619",
   "metadata": {
    "execution": {
     "iopub.execute_input": "2023-05-22T17:58:44.835421Z",
     "iopub.status.busy": "2023-05-22T17:58:44.834910Z",
     "iopub.status.idle": "2023-05-22T17:58:44.844307Z",
     "shell.execute_reply": "2023-05-22T17:58:44.843138Z"
    },
    "papermill": {
     "duration": 0.042374,
     "end_time": "2023-05-22T17:58:44.846907",
     "exception": false,
     "start_time": "2023-05-22T17:58:44.804533",
     "status": "completed"
    },
    "tags": []
   },
   "outputs": [],
   "source": [
    "merged_df['stock'] = merged_df['stock_x'].fillna(merged_df['stock_y'])\n",
    "merged_df['revenue'] = merged_df['revenue_x'].fillna(merged_df['revenue_y'])\n",
    "merged_df = merged_df[['ds', 'stock', 'revenue']]"
   ]
  },
  {
   "cell_type": "code",
   "execution_count": 42,
   "id": "096d1c50",
   "metadata": {
    "execution": {
     "iopub.execute_input": "2023-05-22T17:58:44.906122Z",
     "iopub.status.busy": "2023-05-22T17:58:44.905688Z",
     "iopub.status.idle": "2023-05-22T17:58:44.911562Z",
     "shell.execute_reply": "2023-05-22T17:58:44.910450Z"
    },
    "papermill": {
     "duration": 0.038303,
     "end_time": "2023-05-22T17:58:44.914011",
     "exception": false,
     "start_time": "2023-05-22T17:58:44.875708",
     "status": "completed"
    },
    "tags": []
   },
   "outputs": [],
   "source": [
    "merged_df = merged_df.dropna()"
   ]
  },
  {
   "cell_type": "code",
   "execution_count": 43,
   "id": "b960bd3d",
   "metadata": {
    "execution": {
     "iopub.execute_input": "2023-05-22T17:58:44.973030Z",
     "iopub.status.busy": "2023-05-22T17:58:44.972603Z",
     "iopub.status.idle": "2023-05-22T17:58:45.501991Z",
     "shell.execute_reply": "2023-05-22T17:58:45.500882Z"
    },
    "papermill": {
     "duration": 0.562804,
     "end_time": "2023-05-22T17:58:45.504820",
     "exception": false,
     "start_time": "2023-05-22T17:58:44.942016",
     "status": "completed"
    },
    "tags": []
   },
   "outputs": [],
   "source": [
    "forecast = model.predict(merged_df)"
   ]
  },
  {
   "cell_type": "markdown",
   "id": "56953167",
   "metadata": {
    "papermill": {
     "duration": 0.027676,
     "end_time": "2023-05-22T17:58:45.561298",
     "exception": false,
     "start_time": "2023-05-22T17:58:45.533622",
     "status": "completed"
    },
    "tags": []
   },
   "source": [
    "## Visualisation des prédictions et intervalles de confiances"
   ]
  },
  {
   "cell_type": "code",
   "execution_count": 44,
   "id": "2782c4a5",
   "metadata": {
    "execution": {
     "iopub.execute_input": "2023-05-22T17:58:45.621715Z",
     "iopub.status.busy": "2023-05-22T17:58:45.620512Z",
     "iopub.status.idle": "2023-05-22T17:58:45.626111Z",
     "shell.execute_reply": "2023-05-22T17:58:45.625097Z"
    },
    "papermill": {
     "duration": 0.037644,
     "end_time": "2023-05-22T17:58:45.628497",
     "exception": false,
     "start_time": "2023-05-22T17:58:45.590853",
     "status": "completed"
    },
    "tags": []
   },
   "outputs": [],
   "source": [
    "from prophet.plot import plot_plotly, plot_components_plotly\n",
    "import plotly.graph_objects as go\n",
    "import plotly.io as pio"
   ]
  },
  {
   "cell_type": "code",
   "execution_count": 45,
   "id": "10b2cc5d",
   "metadata": {
    "execution": {
     "iopub.execute_input": "2023-05-22T17:58:45.688549Z",
     "iopub.status.busy": "2023-05-22T17:58:45.688110Z",
     "iopub.status.idle": "2023-05-22T17:58:45.789122Z",
     "shell.execute_reply": "2023-05-22T17:58:45.787991Z"
    },
    "papermill": {
     "duration": 0.133707,
     "end_time": "2023-05-22T17:58:45.791666",
     "exception": false,
     "start_time": "2023-05-22T17:58:45.657959",
     "status": "completed"
    },
    "tags": []
   },
   "outputs": [
    {
     "data": {
      "text/html": [
       "<div>                            <div id=\"30934431-6891-45e0-8efe-7842b3a1d08c\" class=\"plotly-graph-div\" style=\"height:600px; width:900px;\"></div>            <script type=\"text/javascript\">                require([\"plotly\"], function(Plotly) {                    window.PLOTLYENV=window.PLOTLYENV || {};                                    if (document.getElementById(\"30934431-6891-45e0-8efe-7842b3a1d08c\")) {                    Plotly.newPlot(                        \"30934431-6891-45e0-8efe-7842b3a1d08c\",                        [{\"marker\":{\"color\":\"black\",\"size\":4},\"mode\":\"markers\",\"name\":\"Actual\",\"x\":[\"2017-01-31T00:00:00\",\"2017-02-28T00:00:00\",\"2017-03-31T00:00:00\",\"2017-04-30T00:00:00\",\"2017-05-31T00:00:00\",\"2017-06-30T00:00:00\",\"2017-07-31T00:00:00\",\"2017-09-30T00:00:00\",\"2017-10-31T00:00:00\",\"2017-11-30T00:00:00\",\"2017-12-31T00:00:00\",\"2018-01-31T00:00:00\",\"2018-02-28T00:00:00\",\"2018-03-31T00:00:00\",\"2018-04-30T00:00:00\",\"2018-05-31T00:00:00\",\"2018-06-30T00:00:00\",\"2018-07-31T00:00:00\",\"2018-08-31T00:00:00\",\"2018-09-30T00:00:00\",\"2018-10-31T00:00:00\",\"2018-11-30T00:00:00\",\"2018-12-31T00:00:00\"],\"y\":[58.0,23.0,23.0,13.0,6.0,4.0,9.0,2.0,12.0,114.0,190.0,196.0,230.0,263.0,210.0,120.0,91.0,101.0,132.0,121.0,103.0,71.0,50.0],\"type\":\"scatter\"},{\"hoverinfo\":\"skip\",\"line\":{\"width\":0},\"mode\":\"lines\",\"x\":[\"2017-01-31T00:00:00\",\"2017-02-28T00:00:00\",\"2017-03-31T00:00:00\",\"2017-04-30T00:00:00\",\"2017-05-31T00:00:00\",\"2017-06-30T00:00:00\",\"2017-07-31T00:00:00\",\"2017-09-30T00:00:00\",\"2017-10-31T00:00:00\",\"2017-11-30T00:00:00\",\"2017-12-31T00:00:00\",\"2018-01-31T00:00:00\",\"2018-02-28T00:00:00\",\"2018-03-31T00:00:00\",\"2018-04-30T00:00:00\",\"2018-05-31T00:00:00\",\"2018-06-30T00:00:00\",\"2018-07-31T00:00:00\",\"2018-08-31T00:00:00\",\"2018-09-30T00:00:00\",\"2018-10-31T00:00:00\",\"2018-11-30T00:00:00\",\"2018-12-31T00:00:00\",\"2019-01-31T00:00:00\",\"2019-02-28T00:00:00\",\"2019-03-31T00:00:00\",\"2019-04-30T00:00:00\",\"2019-05-31T00:00:00\",\"2019-06-30T00:00:00\",\"2019-07-31T00:00:00\",\"2019-08-31T00:00:00\",\"2019-09-30T00:00:00\",\"2019-10-31T00:00:00\"],\"y\":[54.180002782705685,21.39172103794562,14.650182144886097,4.683706658375742,-1.1568938339105348,-5.111121890302653,-2.662529496552034,-11.840301473454257,-1.6822830049953132,111.47879235534164,181.21107826601306,186.4044679643738,211.33360649813412,244.00515783315456,217.34208566918673,119.47108497438367,89.33204262330499,96.38387650456707,113.92840779772084,114.39649641310476,98.82423601513365,64.97057483565742,38.93869450315943,35.854608251770685,26.074112990134786,19.722730209190054,10.62650034108066,36.867440416339946,46.714860529801655,66.78359186427713,66.83860279696314,43.64674431535214,47.20513419449646],\"type\":\"scatter\"},{\"fill\":\"tonexty\",\"fillcolor\":\"rgba(0, 114, 178, 0.2)\",\"line\":{\"color\":\"#0072B2\",\"width\":2},\"mode\":\"lines\",\"name\":\"Predicted\",\"x\":[\"2017-01-31T00:00:00\",\"2017-02-28T00:00:00\",\"2017-03-31T00:00:00\",\"2017-04-30T00:00:00\",\"2017-05-31T00:00:00\",\"2017-06-30T00:00:00\",\"2017-07-31T00:00:00\",\"2017-09-30T00:00:00\",\"2017-10-31T00:00:00\",\"2017-11-30T00:00:00\",\"2017-12-31T00:00:00\",\"2018-01-31T00:00:00\",\"2018-02-28T00:00:00\",\"2018-03-31T00:00:00\",\"2018-04-30T00:00:00\",\"2018-05-31T00:00:00\",\"2018-06-30T00:00:00\",\"2018-07-31T00:00:00\",\"2018-08-31T00:00:00\",\"2018-09-30T00:00:00\",\"2018-10-31T00:00:00\",\"2018-11-30T00:00:00\",\"2018-12-31T00:00:00\",\"2019-01-31T00:00:00\",\"2019-02-28T00:00:00\",\"2019-03-31T00:00:00\",\"2019-04-30T00:00:00\",\"2019-05-31T00:00:00\",\"2019-06-30T00:00:00\",\"2019-07-31T00:00:00\",\"2019-08-31T00:00:00\",\"2019-09-30T00:00:00\",\"2019-10-31T00:00:00\"],\"y\":[61.992117802457464,29.17711130293155,22.482474790921444,12.547944606146501,6.7837961870176,2.4173461361863957,5.531482363880329,-4.210055263296908,6.517198968604944,119.13538215958258,189.40502251253176,194.10858924668545,219.62231449576765,251.76743476545522,224.90264880516116,127.91782969689815,97.38500171328428,103.78901257379975,122.16720839654036,121.93784647617342,106.95733069289827,73.09317344148377,46.60443426976056,43.06501446836398,33.72947934264896,27.78323666503553,18.328404929637934,44.641197708441496,55.26761577729686,74.76738958339442,75.33125573019662,51.48529086846547,55.076663054570155],\"type\":\"scatter\"},{\"fill\":\"tonexty\",\"fillcolor\":\"rgba(0, 114, 178, 0.2)\",\"hoverinfo\":\"skip\",\"line\":{\"width\":0},\"mode\":\"lines\",\"x\":[\"2017-01-31T00:00:00\",\"2017-02-28T00:00:00\",\"2017-03-31T00:00:00\",\"2017-04-30T00:00:00\",\"2017-05-31T00:00:00\",\"2017-06-30T00:00:00\",\"2017-07-31T00:00:00\",\"2017-09-30T00:00:00\",\"2017-10-31T00:00:00\",\"2017-11-30T00:00:00\",\"2017-12-31T00:00:00\",\"2018-01-31T00:00:00\",\"2018-02-28T00:00:00\",\"2018-03-31T00:00:00\",\"2018-04-30T00:00:00\",\"2018-05-31T00:00:00\",\"2018-06-30T00:00:00\",\"2018-07-31T00:00:00\",\"2018-08-31T00:00:00\",\"2018-09-30T00:00:00\",\"2018-10-31T00:00:00\",\"2018-11-30T00:00:00\",\"2018-12-31T00:00:00\",\"2019-01-31T00:00:00\",\"2019-02-28T00:00:00\",\"2019-03-31T00:00:00\",\"2019-04-30T00:00:00\",\"2019-05-31T00:00:00\",\"2019-06-30T00:00:00\",\"2019-07-31T00:00:00\",\"2019-08-31T00:00:00\",\"2019-09-30T00:00:00\",\"2019-10-31T00:00:00\"],\"y\":[69.48584198895317,37.16987334502887,30.339827227051305,20.256714025498987,15.014965182881703,9.993104429047573,12.951857112151423,3.8431880478407963,14.500075732192304,127.021339982764,197.9072209093989,201.58962034333317,227.3946173109253,259.79743417767173,233.0041238468441,135.16145970892293,105.26265238764552,111.87465239524238,130.33265469476635,129.674403335625,114.55899112267244,81.43653078292434,54.38014941521378,51.05043230769781,41.51797086482886,35.63817062305026,25.766803749634743,52.742242590252054,63.23519721939139,82.19388885527243,83.50350483101349,59.13073674204404,62.899488761055885],\"type\":\"scatter\"},{\"mode\":\"markers\",\"name\":\"Real Values\",\"x\":[\"2019-01-31T00:00:00\",\"2019-02-28T00:00:00\",\"2019-03-31T00:00:00\",\"2019-04-30T00:00:00\",\"2019-05-31T00:00:00\",\"2019-06-30T00:00:00\",\"2019-07-31T00:00:00\",\"2019-08-31T00:00:00\",\"2019-09-30T00:00:00\",\"2019-10-31T00:00:00\"],\"y\":[50.0,45.0,46.0,41.0,64.0,70.0,82.0,89.0,75.0,76.0],\"type\":\"scatter\"}],                        {\"height\":600,\"showlegend\":false,\"width\":900,\"xaxis\":{\"rangeselector\":{\"buttons\":[{\"count\":7,\"label\":\"1w\",\"step\":\"day\",\"stepmode\":\"backward\"},{\"count\":1,\"label\":\"1m\",\"step\":\"month\",\"stepmode\":\"backward\"},{\"count\":6,\"label\":\"6m\",\"step\":\"month\",\"stepmode\":\"backward\"},{\"count\":1,\"label\":\"1y\",\"step\":\"year\",\"stepmode\":\"backward\"},{\"step\":\"all\"}]},\"rangeslider\":{\"visible\":true},\"title\":{\"text\":\"Date\"},\"type\":\"date\"},\"yaxis\":{\"title\":{\"text\":\"Sales\"}},\"template\":{\"data\":{\"histogram2dcontour\":[{\"type\":\"histogram2dcontour\",\"colorbar\":{\"outlinewidth\":0,\"ticks\":\"\"},\"colorscale\":[[0.0,\"#0d0887\"],[0.1111111111111111,\"#46039f\"],[0.2222222222222222,\"#7201a8\"],[0.3333333333333333,\"#9c179e\"],[0.4444444444444444,\"#bd3786\"],[0.5555555555555556,\"#d8576b\"],[0.6666666666666666,\"#ed7953\"],[0.7777777777777778,\"#fb9f3a\"],[0.8888888888888888,\"#fdca26\"],[1.0,\"#f0f921\"]]}],\"choropleth\":[{\"type\":\"choropleth\",\"colorbar\":{\"outlinewidth\":0,\"ticks\":\"\"}}],\"histogram2d\":[{\"type\":\"histogram2d\",\"colorbar\":{\"outlinewidth\":0,\"ticks\":\"\"},\"colorscale\":[[0.0,\"#0d0887\"],[0.1111111111111111,\"#46039f\"],[0.2222222222222222,\"#7201a8\"],[0.3333333333333333,\"#9c179e\"],[0.4444444444444444,\"#bd3786\"],[0.5555555555555556,\"#d8576b\"],[0.6666666666666666,\"#ed7953\"],[0.7777777777777778,\"#fb9f3a\"],[0.8888888888888888,\"#fdca26\"],[1.0,\"#f0f921\"]]}],\"heatmap\":[{\"type\":\"heatmap\",\"colorbar\":{\"outlinewidth\":0,\"ticks\":\"\"},\"colorscale\":[[0.0,\"#0d0887\"],[0.1111111111111111,\"#46039f\"],[0.2222222222222222,\"#7201a8\"],[0.3333333333333333,\"#9c179e\"],[0.4444444444444444,\"#bd3786\"],[0.5555555555555556,\"#d8576b\"],[0.6666666666666666,\"#ed7953\"],[0.7777777777777778,\"#fb9f3a\"],[0.8888888888888888,\"#fdca26\"],[1.0,\"#f0f921\"]]}],\"heatmapgl\":[{\"type\":\"heatmapgl\",\"colorbar\":{\"outlinewidth\":0,\"ticks\":\"\"},\"colorscale\":[[0.0,\"#0d0887\"],[0.1111111111111111,\"#46039f\"],[0.2222222222222222,\"#7201a8\"],[0.3333333333333333,\"#9c179e\"],[0.4444444444444444,\"#bd3786\"],[0.5555555555555556,\"#d8576b\"],[0.6666666666666666,\"#ed7953\"],[0.7777777777777778,\"#fb9f3a\"],[0.8888888888888888,\"#fdca26\"],[1.0,\"#f0f921\"]]}],\"contourcarpet\":[{\"type\":\"contourcarpet\",\"colorbar\":{\"outlinewidth\":0,\"ticks\":\"\"}}],\"contour\":[{\"type\":\"contour\",\"colorbar\":{\"outlinewidth\":0,\"ticks\":\"\"},\"colorscale\":[[0.0,\"#0d0887\"],[0.1111111111111111,\"#46039f\"],[0.2222222222222222,\"#7201a8\"],[0.3333333333333333,\"#9c179e\"],[0.4444444444444444,\"#bd3786\"],[0.5555555555555556,\"#d8576b\"],[0.6666666666666666,\"#ed7953\"],[0.7777777777777778,\"#fb9f3a\"],[0.8888888888888888,\"#fdca26\"],[1.0,\"#f0f921\"]]}],\"surface\":[{\"type\":\"surface\",\"colorbar\":{\"outlinewidth\":0,\"ticks\":\"\"},\"colorscale\":[[0.0,\"#0d0887\"],[0.1111111111111111,\"#46039f\"],[0.2222222222222222,\"#7201a8\"],[0.3333333333333333,\"#9c179e\"],[0.4444444444444444,\"#bd3786\"],[0.5555555555555556,\"#d8576b\"],[0.6666666666666666,\"#ed7953\"],[0.7777777777777778,\"#fb9f3a\"],[0.8888888888888888,\"#fdca26\"],[1.0,\"#f0f921\"]]}],\"mesh3d\":[{\"type\":\"mesh3d\",\"colorbar\":{\"outlinewidth\":0,\"ticks\":\"\"}}],\"scatter\":[{\"fillpattern\":{\"fillmode\":\"overlay\",\"size\":10,\"solidity\":0.2},\"type\":\"scatter\"}],\"parcoords\":[{\"type\":\"parcoords\",\"line\":{\"colorbar\":{\"outlinewidth\":0,\"ticks\":\"\"}}}],\"scatterpolargl\":[{\"type\":\"scatterpolargl\",\"marker\":{\"colorbar\":{\"outlinewidth\":0,\"ticks\":\"\"}}}],\"bar\":[{\"error_x\":{\"color\":\"#2a3f5f\"},\"error_y\":{\"color\":\"#2a3f5f\"},\"marker\":{\"line\":{\"color\":\"#E5ECF6\",\"width\":0.5},\"pattern\":{\"fillmode\":\"overlay\",\"size\":10,\"solidity\":0.2}},\"type\":\"bar\"}],\"scattergeo\":[{\"type\":\"scattergeo\",\"marker\":{\"colorbar\":{\"outlinewidth\":0,\"ticks\":\"\"}}}],\"scatterpolar\":[{\"type\":\"scatterpolar\",\"marker\":{\"colorbar\":{\"outlinewidth\":0,\"ticks\":\"\"}}}],\"histogram\":[{\"marker\":{\"pattern\":{\"fillmode\":\"overlay\",\"size\":10,\"solidity\":0.2}},\"type\":\"histogram\"}],\"scattergl\":[{\"type\":\"scattergl\",\"marker\":{\"colorbar\":{\"outlinewidth\":0,\"ticks\":\"\"}}}],\"scatter3d\":[{\"type\":\"scatter3d\",\"line\":{\"colorbar\":{\"outlinewidth\":0,\"ticks\":\"\"}},\"marker\":{\"colorbar\":{\"outlinewidth\":0,\"ticks\":\"\"}}}],\"scattermapbox\":[{\"type\":\"scattermapbox\",\"marker\":{\"colorbar\":{\"outlinewidth\":0,\"ticks\":\"\"}}}],\"scatterternary\":[{\"type\":\"scatterternary\",\"marker\":{\"colorbar\":{\"outlinewidth\":0,\"ticks\":\"\"}}}],\"scattercarpet\":[{\"type\":\"scattercarpet\",\"marker\":{\"colorbar\":{\"outlinewidth\":0,\"ticks\":\"\"}}}],\"carpet\":[{\"aaxis\":{\"endlinecolor\":\"#2a3f5f\",\"gridcolor\":\"white\",\"linecolor\":\"white\",\"minorgridcolor\":\"white\",\"startlinecolor\":\"#2a3f5f\"},\"baxis\":{\"endlinecolor\":\"#2a3f5f\",\"gridcolor\":\"white\",\"linecolor\":\"white\",\"minorgridcolor\":\"white\",\"startlinecolor\":\"#2a3f5f\"},\"type\":\"carpet\"}],\"table\":[{\"cells\":{\"fill\":{\"color\":\"#EBF0F8\"},\"line\":{\"color\":\"white\"}},\"header\":{\"fill\":{\"color\":\"#C8D4E3\"},\"line\":{\"color\":\"white\"}},\"type\":\"table\"}],\"barpolar\":[{\"marker\":{\"line\":{\"color\":\"#E5ECF6\",\"width\":0.5},\"pattern\":{\"fillmode\":\"overlay\",\"size\":10,\"solidity\":0.2}},\"type\":\"barpolar\"}],\"pie\":[{\"automargin\":true,\"type\":\"pie\"}]},\"layout\":{\"autotypenumbers\":\"strict\",\"colorway\":[\"#636efa\",\"#EF553B\",\"#00cc96\",\"#ab63fa\",\"#FFA15A\",\"#19d3f3\",\"#FF6692\",\"#B6E880\",\"#FF97FF\",\"#FECB52\"],\"font\":{\"color\":\"#2a3f5f\"},\"hovermode\":\"closest\",\"hoverlabel\":{\"align\":\"left\"},\"paper_bgcolor\":\"white\",\"plot_bgcolor\":\"#E5ECF6\",\"polar\":{\"bgcolor\":\"#E5ECF6\",\"angularaxis\":{\"gridcolor\":\"white\",\"linecolor\":\"white\",\"ticks\":\"\"},\"radialaxis\":{\"gridcolor\":\"white\",\"linecolor\":\"white\",\"ticks\":\"\"}},\"ternary\":{\"bgcolor\":\"#E5ECF6\",\"aaxis\":{\"gridcolor\":\"white\",\"linecolor\":\"white\",\"ticks\":\"\"},\"baxis\":{\"gridcolor\":\"white\",\"linecolor\":\"white\",\"ticks\":\"\"},\"caxis\":{\"gridcolor\":\"white\",\"linecolor\":\"white\",\"ticks\":\"\"}},\"coloraxis\":{\"colorbar\":{\"outlinewidth\":0,\"ticks\":\"\"}},\"colorscale\":{\"sequential\":[[0.0,\"#0d0887\"],[0.1111111111111111,\"#46039f\"],[0.2222222222222222,\"#7201a8\"],[0.3333333333333333,\"#9c179e\"],[0.4444444444444444,\"#bd3786\"],[0.5555555555555556,\"#d8576b\"],[0.6666666666666666,\"#ed7953\"],[0.7777777777777778,\"#fb9f3a\"],[0.8888888888888888,\"#fdca26\"],[1.0,\"#f0f921\"]],\"sequentialminus\":[[0.0,\"#0d0887\"],[0.1111111111111111,\"#46039f\"],[0.2222222222222222,\"#7201a8\"],[0.3333333333333333,\"#9c179e\"],[0.4444444444444444,\"#bd3786\"],[0.5555555555555556,\"#d8576b\"],[0.6666666666666666,\"#ed7953\"],[0.7777777777777778,\"#fb9f3a\"],[0.8888888888888888,\"#fdca26\"],[1.0,\"#f0f921\"]],\"diverging\":[[0,\"#8e0152\"],[0.1,\"#c51b7d\"],[0.2,\"#de77ae\"],[0.3,\"#f1b6da\"],[0.4,\"#fde0ef\"],[0.5,\"#f7f7f7\"],[0.6,\"#e6f5d0\"],[0.7,\"#b8e186\"],[0.8,\"#7fbc41\"],[0.9,\"#4d9221\"],[1,\"#276419\"]]},\"xaxis\":{\"gridcolor\":\"white\",\"linecolor\":\"white\",\"ticks\":\"\",\"title\":{\"standoff\":15},\"zerolinecolor\":\"white\",\"automargin\":true,\"zerolinewidth\":2},\"yaxis\":{\"gridcolor\":\"white\",\"linecolor\":\"white\",\"ticks\":\"\",\"title\":{\"standoff\":15},\"zerolinecolor\":\"white\",\"automargin\":true,\"zerolinewidth\":2},\"scene\":{\"xaxis\":{\"backgroundcolor\":\"#E5ECF6\",\"gridcolor\":\"white\",\"linecolor\":\"white\",\"showbackground\":true,\"ticks\":\"\",\"zerolinecolor\":\"white\",\"gridwidth\":2},\"yaxis\":{\"backgroundcolor\":\"#E5ECF6\",\"gridcolor\":\"white\",\"linecolor\":\"white\",\"showbackground\":true,\"ticks\":\"\",\"zerolinecolor\":\"white\",\"gridwidth\":2},\"zaxis\":{\"backgroundcolor\":\"#E5ECF6\",\"gridcolor\":\"white\",\"linecolor\":\"white\",\"showbackground\":true,\"ticks\":\"\",\"zerolinecolor\":\"white\",\"gridwidth\":2}},\"shapedefaults\":{\"line\":{\"color\":\"#2a3f5f\"}},\"annotationdefaults\":{\"arrowcolor\":\"#2a3f5f\",\"arrowhead\":0,\"arrowwidth\":1},\"geo\":{\"bgcolor\":\"white\",\"landcolor\":\"#E5ECF6\",\"subunitcolor\":\"white\",\"showland\":true,\"showlakes\":true,\"lakecolor\":\"white\"},\"title\":{\"x\":0.05},\"mapbox\":{\"style\":\"light\"}}},\"title\":{\"text\":\"Sales Forecast\"}},                        {\"responsive\": true}                    ).then(function(){\n",
       "                            \n",
       "var gd = document.getElementById('30934431-6891-45e0-8efe-7842b3a1d08c');\n",
       "var x = new MutationObserver(function (mutations, observer) {{\n",
       "        var display = window.getComputedStyle(gd).display;\n",
       "        if (!display || display === 'none') {{\n",
       "            console.log([gd, 'removed!']);\n",
       "            Plotly.purge(gd);\n",
       "            observer.disconnect();\n",
       "        }}\n",
       "}});\n",
       "\n",
       "// Listen for the removal of the full notebook cells\n",
       "var notebookContainer = gd.closest('#notebook-container');\n",
       "if (notebookContainer) {{\n",
       "    x.observe(notebookContainer, {childList: true});\n",
       "}}\n",
       "\n",
       "// Listen for the clearing of the current output cell\n",
       "var outputEl = gd.closest('.output');\n",
       "if (outputEl) {{\n",
       "    x.observe(outputEl, {childList: true});\n",
       "}}\n",
       "\n",
       "                        })                };                });            </script>        </div>"
      ]
     },
     "metadata": {},
     "output_type": "display_data"
    }
   ],
   "source": [
    "fig = plot_plotly(model,forecast)\n",
    "real_trace = go.Scatter(x=test['ds'],y=test['y'],mode='markers',name='Real Values')\n",
    "fig.add_trace(real_trace)\n",
    "fig.update_layout(\n",
    "    title='Sales Forecast',\n",
    "    xaxis_title='Date',\n",
    "    yaxis_title='Sales',\n",
    ")"
   ]
  },
  {
   "cell_type": "markdown",
   "id": "fb693d27",
   "metadata": {
    "papermill": {
     "duration": 0.028192,
     "end_time": "2023-05-22T17:58:45.848667",
     "exception": false,
     "start_time": "2023-05-22T17:58:45.820475",
     "status": "completed"
    },
    "tags": []
   },
   "source": [
    "## Model Evaluation en utilisant RMSE ( Root Mean Squared Error )"
   ]
  },
  {
   "cell_type": "code",
   "execution_count": 46,
   "id": "b472fe2f",
   "metadata": {
    "execution": {
     "iopub.execute_input": "2023-05-22T17:58:45.910087Z",
     "iopub.status.busy": "2023-05-22T17:58:45.909665Z",
     "iopub.status.idle": "2023-05-22T17:58:46.175942Z",
     "shell.execute_reply": "2023-05-22T17:58:46.174939Z"
    },
    "papermill": {
     "duration": 0.300228,
     "end_time": "2023-05-22T17:58:46.178376",
     "exception": false,
     "start_time": "2023-05-22T17:58:45.878148",
     "status": "completed"
    },
    "tags": []
   },
   "outputs": [
    {
     "name": "stderr",
     "output_type": "stream",
     "text": [
      "/opt/conda/lib/python3.10/site-packages/scipy/__init__.py:146: UserWarning:\n",
      "\n",
      "A NumPy version >=1.16.5 and <1.23.0 is required for this version of SciPy (detected version 1.23.5\n",
      "\n"
     ]
    },
    {
     "name": "stdout",
     "output_type": "stream",
     "text": [
      "RMSE:  16.860158713730097\n"
     ]
    }
   ],
   "source": [
    "from statsmodels.tools.eval_measures import rmse\n",
    "predictions = forecast.iloc[-10:]['yhat']\n",
    "print(\"RMSE: \",rmse(predictions,test['y']))"
   ]
  },
  {
   "cell_type": "markdown",
   "id": "b18f81bc",
   "metadata": {
    "papermill": {
     "duration": 0.029757,
     "end_time": "2023-05-22T17:58:46.238892",
     "exception": false,
     "start_time": "2023-05-22T17:58:46.209135",
     "status": "completed"
    },
    "tags": []
   },
   "source": [
    "# => On peut maintenant créer une fonction qui résume le processus du Préparation des données pour Prophet"
   ]
  },
  {
   "cell_type": "code",
   "execution_count": 47,
   "id": "6ac36f17",
   "metadata": {
    "execution": {
     "iopub.execute_input": "2023-05-22T17:58:46.301419Z",
     "iopub.status.busy": "2023-05-22T17:58:46.300874Z",
     "iopub.status.idle": "2023-05-22T17:58:46.315886Z",
     "shell.execute_reply": "2023-05-22T17:58:46.315009Z"
    },
    "papermill": {
     "duration": 0.049616,
     "end_time": "2023-05-22T17:58:46.318175",
     "exception": false,
     "start_time": "2023-05-22T17:58:46.268559",
     "status": "completed"
    },
    "tags": []
   },
   "outputs": [],
   "source": [
    "def ProphetForecasting():\n",
    "    \n",
    "    product = input('Please enter a product ID')\n",
    "    split_date = \"2019-01-01\"\n",
    "    product_data = monthly_sales_data[monthly_sales_data['product_id'] == str(product)]\n",
    "    product_data = product_data.groupby('product_id').filter(lambda x: x.index.min().year == 2017 and x.index.max().year == 2019)\n",
    "    product_data = product_data[(product_data['stock'] != 0) & (product_data['sales'] != 0) & (product_data['revenue'] != 0)]\n",
    "    product_data = product_data.drop([\"product_id\"],axis=1)\n",
    "    #Train test split\n",
    "    train_data = product_data.loc[product_data.index <= split_date].copy()\n",
    "    test_data = product_data.loc[product_data.index > split_date].copy()\n",
    "    train_data = train_data.reset_index()\n",
    "    test_data = test_data.reset_index()\n",
    "    train_data = train_data.rename(columns={\"date\": \"ds\",\"sales\":\"y\"})\n",
    "    test_data = test_data.rename(columns={\"date\":\"ds\",\"sales\":\"y\"})\n",
    "    #Application De l'algorithme Prophet\n",
    "    from prophet import Prophet\n",
    "    model = Prophet()\n",
    "    model.add_regressor('stock')\n",
    "    model.add_regressor('revenue')\n",
    "    model.fit(train_data)\n",
    "    future = model.make_future_dataframe(periods=10, freq='M')\n",
    "    future[\"stock\"] = train_data[\"stock\"]\n",
    "    future[\"revenue\"] = train_data[\"revenue\"]\n",
    "    \n",
    "    merged_df = pd.merge(future, test_data, on='ds', how='left')\n",
    "    merged_df['stock'] = merged_df['stock_x'].fillna(merged_df['stock_y'])\n",
    "    merged_df['revenue'] = merged_df['revenue_x'].fillna(merged_df['revenue_y'])\n",
    "    \n",
    "    merged_df = merged_df[['ds', 'stock', 'revenue']]\n",
    "    forecast = model.predict(merged_df)\n",
    "    fig = plot_plotly(model,forecast)\n",
    "    real_trace = go.Scatter(x=test_data['ds'],y=test_data['y'],mode='markers',name='Real Values')\n",
    "    fig.update_layout(title=f'Sales Forecast for {product}',xaxis_title='Date',yaxis_title='Sales')  \n",
    "    fig.add_trace(real_trace)\n",
    "    pio.show(fig)\n",
    "    predictions = forecast.iloc[-10:]['yhat']\n",
    "    print(\"Root Mean Squared-Error : \",rmse(predictions,test_data['y']))"
   ]
  },
  {
   "cell_type": "code",
   "execution_count": 48,
   "id": "b0c1d7e7",
   "metadata": {
    "execution": {
     "iopub.execute_input": "2023-05-22T17:58:46.377719Z",
     "iopub.status.busy": "2023-05-22T17:58:46.376753Z",
     "iopub.status.idle": "2023-05-22T17:58:46.824433Z",
     "shell.execute_reply": "2023-05-22T17:58:46.822644Z"
    },
    "papermill": {
     "duration": 0.479842,
     "end_time": "2023-05-22T17:58:46.826670",
     "exception": true,
     "start_time": "2023-05-22T17:58:46.346828",
     "status": "failed"
    },
    "tags": []
   },
   "outputs": [
    {
     "ename": "StdinNotImplementedError",
     "evalue": "raw_input was called, but this frontend does not support input requests.",
     "output_type": "error",
     "traceback": [
      "\u001b[0;31m---------------------------------------------------------------------------\u001b[0m",
      "\u001b[0;31mStdinNotImplementedError\u001b[0m                  Traceback (most recent call last)",
      "Cell \u001b[0;32mIn[48], line 1\u001b[0m\n\u001b[0;32m----> 1\u001b[0m \u001b[43mProphetForecasting\u001b[49m\u001b[43m(\u001b[49m\u001b[43m)\u001b[49m\n",
      "Cell \u001b[0;32mIn[47], line 3\u001b[0m, in \u001b[0;36mProphetForecasting\u001b[0;34m()\u001b[0m\n\u001b[1;32m      1\u001b[0m \u001b[38;5;28;01mdef\u001b[39;00m \u001b[38;5;21mProphetForecasting\u001b[39m():\n\u001b[0;32m----> 3\u001b[0m     product \u001b[38;5;241m=\u001b[39m \u001b[38;5;28;43minput\u001b[39;49m\u001b[43m(\u001b[49m\u001b[38;5;124;43m'\u001b[39;49m\u001b[38;5;124;43mPlease enter a product ID\u001b[39;49m\u001b[38;5;124;43m'\u001b[39;49m\u001b[43m)\u001b[49m\n\u001b[1;32m      4\u001b[0m     split_date \u001b[38;5;241m=\u001b[39m \u001b[38;5;124m\"\u001b[39m\u001b[38;5;124m2019-01-01\u001b[39m\u001b[38;5;124m\"\u001b[39m\n\u001b[1;32m      5\u001b[0m     product_data \u001b[38;5;241m=\u001b[39m monthly_sales_data[monthly_sales_data[\u001b[38;5;124m'\u001b[39m\u001b[38;5;124mproduct_id\u001b[39m\u001b[38;5;124m'\u001b[39m] \u001b[38;5;241m==\u001b[39m \u001b[38;5;28mstr\u001b[39m(product)]\n",
      "File \u001b[0;32m/opt/conda/lib/python3.10/site-packages/ipykernel/kernelbase.py:1190\u001b[0m, in \u001b[0;36mKernel.raw_input\u001b[0;34m(self, prompt)\u001b[0m\n\u001b[1;32m   1188\u001b[0m \u001b[38;5;28;01mif\u001b[39;00m \u001b[38;5;129;01mnot\u001b[39;00m \u001b[38;5;28mself\u001b[39m\u001b[38;5;241m.\u001b[39m_allow_stdin:\n\u001b[1;32m   1189\u001b[0m     msg \u001b[38;5;241m=\u001b[39m \u001b[38;5;124m\"\u001b[39m\u001b[38;5;124mraw_input was called, but this frontend does not support input requests.\u001b[39m\u001b[38;5;124m\"\u001b[39m\n\u001b[0;32m-> 1190\u001b[0m     \u001b[38;5;28;01mraise\u001b[39;00m StdinNotImplementedError(msg)\n\u001b[1;32m   1191\u001b[0m \u001b[38;5;28;01mreturn\u001b[39;00m \u001b[38;5;28mself\u001b[39m\u001b[38;5;241m.\u001b[39m_input_request(\n\u001b[1;32m   1192\u001b[0m     \u001b[38;5;28mstr\u001b[39m(prompt),\n\u001b[1;32m   1193\u001b[0m     \u001b[38;5;28mself\u001b[39m\u001b[38;5;241m.\u001b[39m_parent_ident[\u001b[38;5;124m\"\u001b[39m\u001b[38;5;124mshell\u001b[39m\u001b[38;5;124m\"\u001b[39m],\n\u001b[1;32m   1194\u001b[0m     \u001b[38;5;28mself\u001b[39m\u001b[38;5;241m.\u001b[39mget_parent(\u001b[38;5;124m\"\u001b[39m\u001b[38;5;124mshell\u001b[39m\u001b[38;5;124m\"\u001b[39m),\n\u001b[1;32m   1195\u001b[0m     password\u001b[38;5;241m=\u001b[39m\u001b[38;5;28;01mFalse\u001b[39;00m,\n\u001b[1;32m   1196\u001b[0m )\n",
      "\u001b[0;31mStdinNotImplementedError\u001b[0m: raw_input was called, but this frontend does not support input requests."
     ]
    }
   ],
   "source": [
    "ProphetForecasting()"
   ]
  },
  {
   "attachments": {
    "243ac4b0-1969-46ed-bbed-2e38ec8773c2.png": {
     "image/png": "[encoded data removed]"
    }
   },
   "cell_type": "markdown",
   "id": "d4bcd89d",
   "metadata": {
    "papermill": {
     "duration": null,
     "end_time": null,
     "exception": null,
     "start_time": null,
     "status": "pending"
    },
    "tags": []
   },
   "source": [
    "# Méthode 2 : ARIMA \n",
    "![image.png](attachment:243ac4b0-1969-46ed-bbed-2e38ec8773c2.png)"
   ]
  },
  {
   "cell_type": "code",
   "execution_count": null,
   "id": "975580c5",
   "metadata": {
    "execution": {
     "iopub.execute_input": "2023-05-22T17:49:06.164462Z",
     "iopub.status.busy": "2023-05-22T17:49:06.164057Z",
     "iopub.status.idle": "2023-05-22T17:49:06.169963Z",
     "shell.execute_reply": "2023-05-22T17:49:06.168747Z",
     "shell.execute_reply.started": "2023-05-22T17:49:06.164433Z"
    },
    "papermill": {
     "duration": null,
     "end_time": null,
     "exception": null,
     "start_time": null,
     "status": "pending"
    },
    "tags": []
   },
   "outputs": [],
   "source": [
    "from statsmodels.tsa.arima.model import ARIMA\n",
    "from statsmodels.graphics.tsaplots import plot_acf, plot_pacf\n",
    "import matplotlib.pyplot as plt"
   ]
  },
  {
   "cell_type": "markdown",
   "id": "97fe3f5e",
   "metadata": {
    "papermill": {
     "duration": null,
     "end_time": null,
     "exception": null,
     "start_time": null,
     "status": "pending"
    },
    "tags": []
   },
   "source": [
    "# Décomposition de série temporelle"
   ]
  },
  {
   "cell_type": "code",
   "execution_count": null,
   "id": "76fc6141",
   "metadata": {
    "execution": {
     "iopub.execute_input": "2023-05-22T17:49:24.365869Z",
     "iopub.status.busy": "2023-05-22T17:49:24.365378Z",
     "iopub.status.idle": "2023-05-22T17:49:24.376235Z",
     "shell.execute_reply": "2023-05-22T17:49:24.374751Z",
     "shell.execute_reply.started": "2023-05-22T17:49:24.365833Z"
    },
    "papermill": {
     "duration": null,
     "end_time": null,
     "exception": null,
     "start_time": null,
     "status": "pending"
    },
    "tags": []
   },
   "outputs": [],
   "source": [
    "from statsmodels.tsa.seasonal import seasonal_decompose\n",
    "decomposition = seasonal_decompose(example_data['sales'], model='additive', period=10)"
   ]
  },
  {
   "cell_type": "code",
   "execution_count": null,
   "id": "a2db9b63",
   "metadata": {
    "execution": {
     "iopub.execute_input": "2023-05-22T17:49:24.642182Z",
     "iopub.status.busy": "2023-05-22T17:49:24.641767Z",
     "iopub.status.idle": "2023-05-22T17:49:25.864749Z",
     "shell.execute_reply": "2023-05-22T17:49:25.863362Z",
     "shell.execute_reply.started": "2023-05-22T17:49:24.642152Z"
    },
    "papermill": {
     "duration": null,
     "end_time": null,
     "exception": null,
     "start_time": null,
     "status": "pending"
    },
    "tags": []
   },
   "outputs": [],
   "source": [
    "fig, axes = plt.subplots(nrows=4, ncols=1, figsize=(10,20))\n",
    "observed = decomposition.observed.plot(ax=axes[0])\n",
    "trend = decomposition.trend.plot(ax=axes[1])\n",
    "season = decomposition.seasonal.plot(ax=axes[2])\n",
    "residuals = decomposition.resid.plot(ax=axes[3])\n"
   ]
  },
  {
   "cell_type": "markdown",
   "id": "e72f5c42",
   "metadata": {
    "papermill": {
     "duration": null,
     "end_time": null,
     "exception": null,
     "start_time": null,
     "status": "pending"
    },
    "tags": []
   },
   "source": [
    "# Etude de l'autocorrélation "
   ]
  },
  {
   "cell_type": "code",
   "execution_count": null,
   "id": "5eae5d69",
   "metadata": {
    "execution": {
     "iopub.execute_input": "2023-05-22T17:49:26.910046Z",
     "iopub.status.busy": "2023-05-22T17:49:26.909624Z",
     "iopub.status.idle": "2023-05-22T17:49:27.249935Z",
     "shell.execute_reply": "2023-05-22T17:49:27.248375Z",
     "shell.execute_reply.started": "2023-05-22T17:49:26.910015Z"
    },
    "papermill": {
     "duration": null,
     "end_time": null,
     "exception": null,
     "start_time": null,
     "status": "pending"
    },
    "tags": []
   },
   "outputs": [],
   "source": [
    "plot_acf(example_data['sales'], alpha = 0.05);"
   ]
  },
  {
   "cell_type": "markdown",
   "id": "4e0c04b8",
   "metadata": {
    "papermill": {
     "duration": null,
     "end_time": null,
     "exception": null,
     "start_time": null,
     "status": "pending"
    },
    "tags": []
   },
   "source": [
    "### => On peut déduire une autocorrélation d'ordre p = 3"
   ]
  },
  {
   "cell_type": "markdown",
   "id": "df73f27e",
   "metadata": {
    "papermill": {
     "duration": null,
     "end_time": null,
     "exception": null,
     "start_time": null,
     "status": "pending"
    },
    "tags": []
   },
   "source": [
    "# Etude de l'autocorrélation partielle"
   ]
  },
  {
   "cell_type": "code",
   "execution_count": null,
   "id": "f23d4976",
   "metadata": {
    "execution": {
     "iopub.execute_input": "2023-05-22T17:49:46.276279Z",
     "iopub.status.busy": "2023-05-22T17:49:46.275824Z",
     "iopub.status.idle": "2023-05-22T17:49:46.577634Z",
     "shell.execute_reply": "2023-05-22T17:49:46.575964Z",
     "shell.execute_reply.started": "2023-05-22T17:49:46.276245Z"
    },
    "papermill": {
     "duration": null,
     "end_time": null,
     "exception": null,
     "start_time": null,
     "status": "pending"
    },
    "tags": []
   },
   "outputs": [],
   "source": [
    "plot_pacf(example_data['sales'], alpha = 0.05,nlags = 10);"
   ]
  },
  {
   "cell_type": "markdown",
   "id": "1e795650",
   "metadata": {
    "papermill": {
     "duration": null,
     "end_time": null,
     "exception": null,
     "start_time": null,
     "status": "pending"
    },
    "tags": []
   },
   "source": [
    "### => Il existe une autocorrélation partille avec un ordre élevée , on peut essayer avec un MA : q = 5"
   ]
  },
  {
   "cell_type": "code",
   "execution_count": null,
   "id": "ae306d0a",
   "metadata": {
    "execution": {
     "iopub.execute_input": "2023-05-22T17:50:24.199255Z",
     "iopub.status.busy": "2023-05-22T17:50:24.198840Z",
     "iopub.status.idle": "2023-05-22T17:50:24.225879Z",
     "shell.execute_reply": "2023-05-22T17:50:24.224622Z",
     "shell.execute_reply.started": "2023-05-22T17:50:24.199216Z"
    },
    "papermill": {
     "duration": null,
     "end_time": null,
     "exception": null,
     "start_time": null,
     "status": "pending"
    },
    "tags": []
   },
   "outputs": [],
   "source": [
    "from statsmodels.tsa.stattools import adfuller\n",
    "adf = adfuller(example_data['sales'])\n",
    "adf_statistic = adf[0]\n",
    "p_value = adf[1]\n",
    "critical_values = adf[4]\n",
    "\n",
    "print(f'ADF Statistic: {adf_statistic}')\n",
    "print(f'p-value: {p_value}')\n",
    "print(f'Critical Values:{critical_values}')"
   ]
  },
  {
   "cell_type": "markdown",
   "id": "3d32dfb5",
   "metadata": {
    "papermill": {
     "duration": null,
     "end_time": null,
     "exception": null,
     "start_time": null,
     "status": "pending"
    },
    "tags": []
   },
   "source": [
    "### => P-value > 0.05 : Non rejet de H0 => la série est non-stationnaire "
   ]
  },
  {
   "cell_type": "code",
   "execution_count": null,
   "id": "13782e1b",
   "metadata": {
    "collapsed": true,
    "execution": {
     "iopub.execute_input": "2023-05-22T17:52:24.185996Z",
     "iopub.status.busy": "2023-05-22T17:52:24.185315Z",
     "iopub.status.idle": "2023-05-22T17:52:25.277718Z",
     "shell.execute_reply": "2023-05-22T17:52:25.276352Z",
     "shell.execute_reply.started": "2023-05-22T17:52:24.185961Z"
    },
    "jupyter": {
     "outputs_hidden": true
    },
    "papermill": {
     "duration": null,
     "end_time": null,
     "exception": null,
     "start_time": null,
     "status": "pending"
    },
    "tags": []
   },
   "outputs": [],
   "source": [
    "import statsmodels.api as sm\n",
    "model_arima = sm.tsa.ARIMA(example_data['sales'], order=(3, 1, 5),exog=example_data[[\"revenue\",\"stock\"]])"
   ]
  },
  {
   "cell_type": "code",
   "execution_count": null,
   "id": "ea18b364",
   "metadata": {
    "execution": {
     "iopub.execute_input": "2023-05-22T17:53:28.128966Z",
     "iopub.status.busy": "2023-05-22T17:53:28.128415Z",
     "iopub.status.idle": "2023-05-22T17:53:29.047949Z",
     "shell.execute_reply": "2023-05-22T17:53:29.046026Z",
     "shell.execute_reply.started": "2023-05-22T17:53:28.128929Z"
    },
    "papermill": {
     "duration": null,
     "end_time": null,
     "exception": null,
     "start_time": null,
     "status": "pending"
    },
    "tags": []
   },
   "outputs": [],
   "source": [
    "results = model_arima.fit()"
   ]
  },
  {
   "cell_type": "code",
   "execution_count": null,
   "id": "13ac1c58",
   "metadata": {
    "execution": {
     "iopub.execute_input": "2023-05-22T13:42:33.344172Z",
     "iopub.status.busy": "2023-05-22T13:42:33.343369Z",
     "iopub.status.idle": "2023-05-22T13:42:33.356868Z",
     "shell.execute_reply": "2023-05-22T13:42:33.355556Z",
     "shell.execute_reply.started": "2023-05-22T13:42:33.344119Z"
    },
    "papermill": {
     "duration": null,
     "end_time": null,
     "exception": null,
     "start_time": null,
     "status": "pending"
    },
    "tags": []
   },
   "outputs": [],
   "source": [
    "start_date = '2019-01-31'\n",
    "end_date = '2019-10-31'\n",
    "pred = results.predict(start=start_date, end=end_date)"
   ]
  },
  {
   "cell_type": "code",
   "execution_count": null,
   "id": "8f8f00be",
   "metadata": {
    "execution": {
     "iopub.execute_input": "2023-05-22T13:42:33.358922Z",
     "iopub.status.busy": "2023-05-22T13:42:33.358449Z",
     "iopub.status.idle": "2023-05-22T13:42:33.369952Z",
     "shell.execute_reply": "2023-05-22T13:42:33.368709Z",
     "shell.execute_reply.started": "2023-05-22T13:42:33.358871Z"
    },
    "papermill": {
     "duration": null,
     "end_time": null,
     "exception": null,
     "start_time": null,
     "status": "pending"
    },
    "tags": []
   },
   "outputs": [],
   "source": [
    "real_values = example_data.loc[start_date:end_date, 'sales']"
   ]
  },
  {
   "cell_type": "code",
   "execution_count": null,
   "id": "bf58e192",
   "metadata": {
    "execution": {
     "iopub.execute_input": "2023-05-22T13:42:33.444568Z",
     "iopub.status.busy": "2023-05-22T13:42:33.444175Z",
     "iopub.status.idle": "2023-05-22T13:42:33.723708Z",
     "shell.execute_reply": "2023-05-22T13:42:33.722528Z",
     "shell.execute_reply.started": "2023-05-22T13:42:33.444537Z"
    },
    "papermill": {
     "duration": null,
     "end_time": null,
     "exception": null,
     "start_time": null,
     "status": "pending"
    },
    "tags": []
   },
   "outputs": [],
   "source": [
    "plt.plot(real_values.index, real_values, label='Les valeurs réels')\n",
    "plt.plot(pred.index, pred, label='Les valeurs Prédits')\n",
    "plt.xlabel('Date')\n",
    "plt.ylabel('Sales')\n",
    "plt.title('ARIMA Predictions')\n",
    "plt.legend()\n",
    "plt.show()"
   ]
  },
  {
   "cell_type": "markdown",
   "id": "d16101f7",
   "metadata": {
    "papermill": {
     "duration": null,
     "end_time": null,
     "exception": null,
     "start_time": null,
     "status": "pending"
    },
    "tags": []
   },
   "source": [
    "## Evaluation du modèle ARIMA avec MSE ( Mean Squared Error ) "
   ]
  },
  {
   "cell_type": "code",
   "execution_count": null,
   "id": "8392fb88",
   "metadata": {
    "execution": {
     "iopub.execute_input": "2023-05-22T13:42:37.712811Z",
     "iopub.status.busy": "2023-05-22T13:42:37.712384Z",
     "iopub.status.idle": "2023-05-22T13:42:37.719931Z",
     "shell.execute_reply": "2023-05-22T13:42:37.718625Z",
     "shell.execute_reply.started": "2023-05-22T13:42:37.712776Z"
    },
    "papermill": {
     "duration": null,
     "end_time": null,
     "exception": null,
     "start_time": null,
     "status": "pending"
    },
    "tags": []
   },
   "outputs": [],
   "source": [
    "from sklearn.metrics import mean_squared_error\n",
    "\n",
    "mse = mean_squared_error(real_values, pred)\n",
    "print(\"Mean Squared Error:\", mse)"
   ]
  }
 ],
 "metadata": {
  "kernelspec": {
   "display_name": "Python 3",
   "language": "python",
   "name": "python3"
  },
  "language_info": {
   "codemirror_mode": {
    "name": "ipython",
    "version": 3
   },
   "file_extension": ".py",
   "mimetype": "text/x-python",
   "name": "python",
   "nbconvert_exporter": "python",
   "pygments_lexer": "ipython3",
   "version": "3.10.10"
  },
  "papermill": {
   "default_parameters": {},
   "duration": 182.386989,
   "end_time": "2023-05-22T17:58:49.477176",
   "environment_variables": {},
   "exception": true,
   "input_path": "__notebook__.ipynb",
   "output_path": "__notebook__.ipynb",
   "parameters": {},
   "start_time": "2023-05-22T17:55:47.090187",
   "version": "2.4.0"
  }
 },
 "nbformat": 4,
 "nbformat_minor": 5
}
